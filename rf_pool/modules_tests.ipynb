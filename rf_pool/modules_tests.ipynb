{
 "cells": [
  {
   "cell_type": "code",
   "execution_count": null,
   "metadata": {
    "collapsed": false
   },
   "outputs": [],
   "source": [
    "import torch\n",
    "import numpy as np\n",
    "import modules\n",
    "from layers import RF_Pool\n",
    "import imp\n",
    "import matplotlib.pyplot as plt"
   ]
  },
  {
   "cell_type": "code",
   "execution_count": null,
   "metadata": {
    "collapsed": false
   },
   "outputs": [],
   "source": [
    "imp.reload(modules)"
   ]
  },
  {
   "cell_type": "code",
   "execution_count": null,
   "metadata": {
    "collapsed": false
   },
   "outputs": [],
   "source": [
    "data_shape = (10,3,28,28)\n",
    "layer_types = ['conv','fc']\n",
    "output_channels = [10,128]\n",
    "kernel_sizes = [9,None]\n",
    "conv_strides = [1,None]\n",
    "act_types = [torch.nn.ReLU(),None]\n",
    "pool_types = [rf_pooling,None]\n",
    "pool_ksizes = [2,None]\n",
    "dropout_types = [0.5,None]\n",
    "ff = modules.FeedForwardNetwork(data_shape, layer_types, output_channels, kernel_sizes,\n",
    "                                conv_strides, act_types, pool_types, pool_ksizes, dropout_types)"
   ]
  },
  {
   "cell_type": "code",
   "execution_count": null,
   "metadata": {
    "collapsed": false
   },
   "outputs": [],
   "source": [
    "ff.control_nets = modules.ControlNetwork(ff, [0], ['conv','fc'], [10,128], [5, None])"
   ]
  },
  {
   "cell_type": "code",
   "execution_count": null,
   "metadata": {
    "collapsed": false
   },
   "outputs": [],
   "source": [
    "delta_mu, delta_sigma = ff.control_nets(0, torch.rand(10,10,20,20))"
   ]
  },
  {
   "cell_type": "code",
   "execution_count": null,
   "metadata": {
    "collapsed": true
   },
   "outputs": [],
   "source": [
    "out = ff.forward(torch.rand(10,3,28,28))"
   ]
  }
 ],
 "metadata": {
  "kernelspec": {
   "display_name": "Python 3",
   "language": "python",
   "name": "python3"
  },
  "language_info": {
   "codemirror_mode": {
    "name": "ipython",
    "version": 3
   },
   "file_extension": ".py",
   "mimetype": "text/x-python",
   "name": "python",
   "nbconvert_exporter": "python",
   "pygments_lexer": "ipython3",
   "version": "3.6.8"
  }
 },
 "nbformat": 4,
 "nbformat_minor": 2
}
