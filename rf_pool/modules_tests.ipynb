{
 "cells": [
  {
   "cell_type": "code",
   "execution_count": 1,
   "metadata": {
    "collapsed": false
   },
   "outputs": [],
   "source": [
    "import torch\n",
    "import numpy as np\n",
    "import modules\n",
    "from utils import lattice\n",
    "from layers import RF_Pool\n",
    "import imp\n",
    "import matplotlib.pyplot as plt"
   ]
  },
  {
   "cell_type": "code",
   "execution_count": 2,
   "metadata": {
    "collapsed": false
   },
   "outputs": [
    {
     "data": {
      "text/plain": [
       "<module 'modules' from '/Users/theissjd/Documents/Berkeley/code/rf_pool/rf_pool/modules.py'>"
      ]
     },
     "execution_count": 2,
     "metadata": {},
     "output_type": "execute_result"
    }
   ],
   "source": [
    "imp.reload(modules)"
   ]
  },
  {
   "cell_type": "code",
   "execution_count": 3,
   "metadata": {
    "collapsed": true
   },
   "outputs": [],
   "source": [
    "rf_layer = RF_Pool(mu=torch.rand(5,2), sigma=torch.rand(5,1), img_shape=(20,20))\n",
    "rf_layer.init_rfs()"
   ]
  },
  {
   "cell_type": "code",
   "execution_count": 4,
   "metadata": {
    "collapsed": false
   },
   "outputs": [],
   "source": [
    "data_shape = (10,3,28,28)\n",
    "layer_types = ['conv','conv']\n",
    "output_channels = [10,10]\n",
    "kernel_sizes = [9,5]\n",
    "act_types = [torch.nn.ReLU(),None]\n",
    "pool_types = [rf_layer,None]\n",
    "pool_ksizes = [2,None]\n",
    "dropout_types = [0.5,None]\n",
    "ff = modules.FeedForwardNetwork(data_shape, layer_types, act_types, pool_types,\n",
    "                                dropout_types=dropout_types,\n",
    "                                output_channels=output_channels, \n",
    "                                kernel_sizes=kernel_sizes,\n",
    "                                pool_ksizes=pool_ksizes)"
   ]
  },
  {
   "cell_type": "code",
   "execution_count": 5,
   "metadata": {
    "collapsed": false
   },
   "outputs": [],
   "source": [
    "ff.control_nets = modules.ControlNetwork(ff, [0], ['conv','fc'], [(-1,1,5,2), (-1,1,5,1)],\n",
    "                                         output_channels=[10,128], kernel_sizes=[5, None])"
   ]
  },
  {
   "cell_type": "code",
   "execution_count": 6,
   "metadata": {
    "collapsed": false
   },
   "outputs": [
    {
     "name": "stdout",
     "output_type": "stream",
     "text": [
      "hidden_layers.0.weight\n",
      "hidden_layers.0.bias\n",
      "hidden_layers.1.weight\n",
      "hidden_layers.1.bias\n",
      "control_nets.0_trunk_0_hidden_layers_0_weight\n",
      "control_nets.0_trunk_0_hidden_layers_0_bias\n",
      "control_nets.0_trunk_0_hidden_layers_1_weight\n",
      "control_nets.0_trunk_0_hidden_layers_1_bias\n",
      "control_nets.0_branch_1_hidden_layers_0_weight\n",
      "control_nets.0_branch_1_hidden_layers_0_bias\n",
      "control_nets.0_branch_2_hidden_layers_0_weight\n",
      "control_nets.0_branch_2_hidden_layers_0_bias\n"
     ]
    }
   ],
   "source": [
    "for (name, param) in ff.named_parameters():\n",
    "    print(name)"
   ]
  },
  {
   "cell_type": "code",
   "execution_count": 7,
   "metadata": {
    "collapsed": false
   },
   "outputs": [],
   "source": [
    "control_out = ff.control_nets(0, torch.rand(2,10,20,20))"
   ]
  },
  {
   "cell_type": "code",
   "execution_count": 8,
   "metadata": {
    "collapsed": false
   },
   "outputs": [],
   "source": [
    "out = ff.forward(torch.rand(2,3,28,28))"
   ]
  }
 ],
 "metadata": {
  "kernelspec": {
   "display_name": "Python 3",
   "language": "python",
   "name": "python3"
  },
  "language_info": {
   "codemirror_mode": {
    "name": "ipython",
    "version": 3
   },
   "file_extension": ".py",
   "mimetype": "text/x-python",
   "name": "python",
   "nbconvert_exporter": "python",
   "pygments_lexer": "ipython3",
   "version": "3.6.8"
  }
 },
 "nbformat": 4,
 "nbformat_minor": 2
}
