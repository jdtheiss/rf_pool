{
 "cells": [
  {
   "cell_type": "code",
   "execution_count": null,
   "metadata": {},
   "outputs": [],
   "source": [
    "import torch\n",
    "import torchvision\n",
    "import torchvision.transforms as transforms\n",
    "\n",
    "from models import FeedForwardModel"
   ]
  },
  {
   "cell_type": "code",
   "execution_count": null,
   "metadata": {},
   "outputs": [],
   "source": [
    "# model params\n",
    "loss_type = 'cross_entropy'\n",
    "optimizer_type = 'adam'\n",
    "model = FeedForwardModel(loss_type, optimizer_type)"
   ]
  },
  {
   "cell_type": "code",
   "execution_count": null,
   "metadata": {},
   "outputs": [],
   "source": [
    "# ff parameters\n",
    "data_shape = (1,3,32,32)\n",
    "layer_types = ['conv', 'conv', 'fc', 'fc', 'fc']\n",
    "output_channels = [6, 16, 120, 84, 10]\n",
    "kernel_sizes = [5]\n",
    "act_types = ['relu']\n",
    "pool_types = [\"prob\", \"prob\", None]\n",
    "pool_ksizes = [2]\n",
    "conv_strides = [1]\n",
    "dropout = [None]\n",
    "\n",
    "model.ff_network(data_shape, layer_types, output_channels, kernel_sizes, conv_strides, act_types, \n",
    "                 pool_types, pool_ksizes, dropout)"
   ]
  },
  {
   "cell_type": "code",
   "execution_count": null,
   "metadata": {},
   "outputs": [],
   "source": [
    "# control params \n",
    "# cnt_layer_ids = [0,1]\n",
    "# cnt_layer_types = ['conv', 'fc']\n",
    "# cnt_output_channels = [16, 256]\n",
    "# cnt_kernel_sizes = [5]\n",
    "\n",
    "# model.control_network(cnt_layer_ids, cnt_layer_types, cnt_output_channels, cnt_kernel_sizes)\n",
    "\n",
    "# Note: still broken (02/16/19)\n",
    "# can initialize, but cannot run"
   ]
  },
  {
   "cell_type": "code",
   "execution_count": null,
   "metadata": {},
   "outputs": [],
   "source": [
    "# run\n",
    "random_input = torch.rand(data_shape)\n",
    "model(random_input).shape"
   ]
  },
  {
   "cell_type": "code",
   "execution_count": null,
   "metadata": {},
   "outputs": [],
   "source": [
    "# train\n",
    "epochs = 2\n",
    "train_loader = None # torch.utils.data.DataLoader\n",
    "#model.train_this_shit(epochs, trainloader) # requires a torch.utils.data.DataLoader"
   ]
  }
 ],
 "metadata": {
  "kernelspec": {
   "display_name": "Python 3",
   "language": "python",
   "name": "python3"
  },
  "language_info": {
   "codemirror_mode": {
    "name": "ipython",
    "version": 3
   },
   "file_extension": ".py",
   "mimetype": "text/x-python",
   "name": "python",
   "nbconvert_exporter": "python",
   "pygments_lexer": "ipython3",
   "version": "3.6.8"
  }
 },
 "nbformat": 4,
 "nbformat_minor": 2
}
