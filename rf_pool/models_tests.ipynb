{
 "cells": [
  {
   "cell_type": "code",
   "execution_count": 1,
   "metadata": {},
   "outputs": [],
   "source": [
    "import torch\n",
    "import torchvision\n",
    "import torchvision.transforms as transforms\n",
    "\n",
    "from models import FeedForwardModel\n",
    "from layers import RF_Pool"
   ]
  },
  {
   "cell_type": "code",
   "execution_count": 2,
   "metadata": {},
   "outputs": [],
   "source": [
    "rf_layer = RF_Pool(mu=torch.rand(5,2), sigma=torch.rand(5,1), img_shape=(20,20))\n",
    "rf_layer.init_rfs()"
   ]
  },
  {
   "cell_type": "code",
   "execution_count": 3,
   "metadata": {},
   "outputs": [],
   "source": [
    "# model params\n",
    "loss_type = 'cross_entropy'\n",
    "optimizer_type = 'adam'\n",
    "model = FeedForwardModel(loss_type, optimizer_type)"
   ]
  },
  {
   "cell_type": "code",
   "execution_count": 4,
   "metadata": {},
   "outputs": [],
   "source": [
    "# ff parameters\n",
    "data_shape = (10,3,28,28)\n",
    "layer_types = ['conv','conv']\n",
    "output_channels = [10,10]\n",
    "kernel_sizes = [9,5]\n",
    "act_types = [torch.nn.ReLU(),None]\n",
    "pool_types = [rf_layer,None]\n",
    "pool_ksizes = [2,None]\n",
    "dropout_types = [None,None]\n",
    "\n",
    "model.ff_network(data_shape=data_shape, layer_types=layer_types, output_channels=output_channels, \n",
    "                 kernel_sizes=kernel_sizes, act_types=act_types, pool_types=pool_types, pool_ksizes=pool_ksizes,\n",
    "                 dropout_types=dropout_types)\n",
    "\n",
    "n_params = len(model.get_trainable_params())\n",
    "print(\"Number of 'on' params from ff_net: \", n_params)"
   ]
  },
  {
   "cell_type": "code",
   "execution_count": 8,
   "metadata": {},
   "outputs": [],
   "source": [
    "model.control_network([0], ['conv','fc'], [(-1,1,5,2), (-1,1,5,1)], \n",
    "                      output_channels=[10,128], kernel_sizes=[5, None])\n",
    "\n",
    "n_params = len(model.get_trainable_params())\n",
    "print(\"Number of 'on' params from ff_net + control_net: \", n_params)"
   ]
  },
  {
   "cell_type": "code",
   "execution_count": 11,
   "metadata": {},
   "outputs": [
    {
     "name": "stdout",
     "output_type": "stream",
     "text": [
      "Number of 'on' params after removing ff_net:  8\n"
     ]
    }
   ],
   "source": [
    "# setting requires_gradient:\n",
    "model.set_requires_grad(\"hidden\", False) # turns off ff_net hidden layer params\n",
    "n_params = len(model.get_trainable_params())\n",
    "print(\"Number of 'on' params after removing ff_net: \", n_params)"
   ]
  },
  {
   "cell_type": "code",
   "execution_count": 12,
   "metadata": {},
   "outputs": [
    {
     "data": {
      "text/plain": [
       "torch.Size([10, 10, 6, 6])"
      ]
     },
     "execution_count": 12,
     "metadata": {},
     "output_type": "execute_result"
    }
   ],
   "source": [
    "# run\n",
    "random_input = torch.rand(data_shape)\n",
    "model(random_input).shape"
   ]
  },
  {
   "cell_type": "code",
   "execution_count": null,
   "metadata": {},
   "outputs": [],
   "source": [
    "# train\n",
    "epochs = 2\n",
    "train_loader = None # torch.utils.data.DataLoader\n",
    "#model.train_model(epochs, trainloader) # requires a torch.utils.data.DataLoader"
   ]
  }
 ],
 "metadata": {
  "kernelspec": {
   "display_name": "Python 3",
   "language": "python",
   "name": "python3"
  },
  "language_info": {
   "codemirror_mode": {
    "name": "ipython",
    "version": 3
   },
   "file_extension": ".py",
   "mimetype": "text/x-python",
   "name": "python",
   "nbconvert_exporter": "python",
   "pygments_lexer": "ipython3",
   "version": "3.6.8"
  }
 },
 "nbformat": 4,
 "nbformat_minor": 2
}
