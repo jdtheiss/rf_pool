{
 "cells": [
  {
   "cell_type": "code",
   "execution_count": 1,
   "metadata": {},
   "outputs": [],
   "source": [
    "import imp\n",
    "import torch\n",
    "import torchvision\n",
    "import torchvision.transforms as transforms\n",
    "import models, modules, layers\n",
    "from utils import lattice"
   ]
  },
  {
   "cell_type": "code",
   "execution_count": 2,
   "metadata": {},
   "outputs": [],
   "source": [
    "# model params\n",
    "loss_type = 'cross_entropy'\n",
    "optimizer_type = 'sgd'\n",
    "model = models.FeedForwardModel(loss_type, optimizer_type)"
   ]
  },
  {
   "cell_type": "code",
   "execution_count": null,
   "metadata": {},
   "outputs": [],
   "source": [
    "# rf layer\n",
    "mu, sigma = lattice.init_uniform_lattice((14,14), 5, 5, sigma_init=2.)\n",
    "kernels = lattice.gaussian_kernel_lattice(mu, sigma, (28,28))\n",
    "rf_layer = layers.RF_Pool(mu, sigma, img_shape=(28,28), pool_type='sum')\n",
    "rf_layer.init_rfs()\n",
    "rf_layer.show_rfs()"
   ]
  },
  {
   "cell_type": "code",
   "execution_count": null,
   "metadata": {},
   "outputs": [],
   "source": [
    "# ff parameters\n",
    "data_shape = (1,3,32,32)\n",
    "layer_types = ['conv', 'conv', 'fc', 'fc', 'fc']\n",
    "output_channels = [6, 16, 120, 84, 10]\n",
    "kernel_sizes = [5]\n",
    "act_types = ['relu']*4 + [None]\n",
    "pool_types = ['max_pool', 'max_pool', None]\n",
    "pool_ksizes = [2]\n",
    "dropout_types = [None]\n",
    "\n",
    "model.ff_network(data_shape, layer_types, act_types=act_types, \n",
    "                 pool_types=pool_types,\n",
    "                 dropout_types=dropout_types,\n",
    "                 output_channels=output_channels, \n",
    "                 kernel_sizes=kernel_sizes,\n",
    "                 pool_ksizes=pool_ksizes)\n",
    "\n",
    "n_params = len(model.get_trainable_params())\n",
    "print(\"Number of 'on' params from ff_net: \", n_params)"
   ]
  },
  {
   "cell_type": "code",
   "execution_count": null,
   "metadata": {},
   "outputs": [],
   "source": [
    "# control parameters\n",
    "control_layer_ids = [0]\n",
    "control_layer_types = ['conv','fc']\n",
    "branch_output_shapes = [(-1, 1, )]\n",
    "control_output_channels = [16,256]\n",
    "control_kernel_sizes = [5]\n",
    "model.control_network(control_layer_ids, control_layer_types, branch_output_shapes,\n",
    "                      output_channels=control_output_channels, kernel_sizes=control_kernel_sizes)\n",
    "\n",
    "n_params = len(model.get_trainable_params())\n",
    "print(\"Number of 'on' params from ff_net + control_net: \", n_params)"
   ]
  },
  {
   "cell_type": "code",
   "execution_count": null,
   "metadata": {},
   "outputs": [],
   "source": [
    "# setting requires_gradient:\n",
    "model.set_requires_grad(\"hidden\", False) # turns off ff_net hidden layer params\n",
    "n_params = len(model.get_trainable_params())\n",
    "print(\"Number of 'on' params after removing ff_net: \", n_params)"
   ]
  },
  {
   "cell_type": "code",
   "execution_count": null,
   "metadata": {},
   "outputs": [],
   "source": [
    "# test random data\n",
    "random_input = torch.rand(data_shape)\n",
    "model(random_input).shape"
   ]
  },
  {
   "cell_type": "code",
   "execution_count": null,
   "metadata": {},
   "outputs": [],
   "source": [
    "# get CIFAR-10 training data\n",
    "transform = transforms.Compose(\n",
    "    [transforms.ToTensor(),\n",
    "     transforms.Normalize((0.5, 0.5, 0.5), (0.5, 0.5, 0.5))])\n",
    "\n",
    "trainset = torchvision.datasets.CIFAR10(root='./data', train=True,\n",
    "                                        download=True, transform=transform)\n",
    "trainloader = torch.utils.data.DataLoader(trainset, batch_size=4,\n",
    "                                          shuffle=True, num_workers=2)"
   ]
  },
  {
   "cell_type": "code",
   "execution_count": null,
   "metadata": {},
   "outputs": [],
   "source": [
    "# train\n",
    "epochs = 2\n",
    "model.train_model(epochs, trainloader, monitor=2000, lr=0.001, momentum=0.9)"
   ]
  },
  {
   "cell_type": "code",
   "execution_count": null,
   "metadata": {},
   "outputs": [],
   "source": [
    "testset = torchvision.datasets.CIFAR10(root='./data', train=False,\n",
    "                                       download=True, transform=transform)\n",
    "testloader = torch.utils.data.DataLoader(testset, batch_size=4,\n",
    "                                         shuffle=False, num_workers=2)"
   ]
  },
  {
   "cell_type": "code",
   "execution_count": null,
   "metadata": {},
   "outputs": [],
   "source": [
    "model.get_accuracy(testloader)"
   ]
  },
  {
   "cell_type": "code",
   "execution_count": null,
   "metadata": {},
   "outputs": [],
   "source": []
  }
 ],
 "metadata": {
  "kernelspec": {
   "display_name": "Python 3",
   "language": "python",
   "name": "python3"
  },
  "language_info": {
   "codemirror_mode": {
    "name": "ipython",
    "version": 3
   },
   "file_extension": ".py",
   "mimetype": "text/x-python",
   "name": "python",
   "nbconvert_exporter": "python",
   "pygments_lexer": "ipython3",
   "version": "3.6.8"
  }
 },
 "nbformat": 4,
 "nbformat_minor": 2
}
