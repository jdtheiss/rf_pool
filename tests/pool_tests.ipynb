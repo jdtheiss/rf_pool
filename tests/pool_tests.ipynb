{
 "cells": [
  {
   "cell_type": "code",
   "execution_count": null,
   "metadata": {
    "scrolled": true
   },
   "outputs": [],
   "source": [
    "import matplotlib.pyplot as plt\n",
    "import numpy as np\n",
    "import timeit\n",
    "import torch\n",
    "\n",
    "from context import rf_pool"
   ]
  },
  {
   "cell_type": "code",
   "execution_count": null,
   "metadata": {},
   "outputs": [],
   "source": [
    "# init rfs and data\n",
    "img_shape = [20,20]\n",
    "mu, sigma = rf_pool.utils.lattice.init_uniform_lattice(np.array(img_shape)//2, (4,4), 2, sigma_init=2.)\n",
    "rfs = rf_pool.utils.lattice.mask_kernel_lattice(mu, sigma, img_shape)\n",
    "\n",
    "a = torch.as_tensor(np.random.rand(10,64,*img_shape), dtype=torch.float32)\n",
    "b = rfs.clone();"
   ]
  },
  {
   "cell_type": "code",
   "execution_count": null,
   "metadata": {},
   "outputs": [],
   "source": [
    "# get rf_pool output and timing\n",
    "t0 = []\n",
    "a0 = a.numpy()\n",
    "b0 = b.numpy()\n",
    "for _ in range(1):\n",
    "    s = timeit.default_timer()\n",
    "    out0 = rf_pool.pool.max_pool(a0.reshape((-1,*img_shape)), mask=b0,\n",
    "                                 kernel=(2,2), img_shape=(20,20))\n",
    "    e = timeit.default_timer()\n",
    "    t0.append(e - s)\n",
    "print('RF-Pool takes %0.4f secs' % np.mean(t0))"
   ]
  },
  {
   "cell_type": "code",
   "execution_count": null,
   "metadata": {},
   "outputs": [],
   "source": [
    "# compare to previous rf_pool approach\n",
    "t1 = []\n",
    "for _ in range(1):\n",
    "    s = timeit.default_timer()\n",
    "    h_mean = torch.mul(a.unsqueeze(2), b)\n",
    "    h_sample = torch.reshape(rf_pool.pooling.max_index(h_mean.flatten(-2)), h_mean.shape)\n",
    "    p_mean = torch.mul(h_mean, h_sample)\n",
    "    out1 = torch.max(p_mean, -3)[0]\n",
    "    e = timeit.default_timer()\n",
    "    t1.append(e - s)\n",
    "print('Previous approach takes %0.4f secs' % np.mean(t1))"
   ]
  },
  {
   "cell_type": "code",
   "execution_count": null,
   "metadata": {},
   "outputs": [],
   "source": [
    "print('RF-Pool is %0.2f times faster than previous approach' % (np.mean(t1) / np.mean(t0)))"
   ]
  },
  {
   "cell_type": "code",
   "execution_count": null,
   "metadata": {},
   "outputs": [],
   "source": [
    "print('RF-Pool output == previous output: %a' % (np.allclose(out1.numpy(), out0.reshape(out1.shape))))"
   ]
  },
  {
   "cell_type": "code",
   "execution_count": null,
   "metadata": {},
   "outputs": [],
   "source": [
    "# compare to 2x2 maxpool\n",
    "t2 = []\n",
    "for _ in range(1000):\n",
    "    s = timeit.default_timer()\n",
    "    out2 = torch.nn.functional.max_pool2d(out1, (2,2))\n",
    "    e = timeit.default_timer()\n",
    "    t2.append(e - s)\n",
    "print('2x2 MaxPool takes %0.4f secs' % np.mean(t2))"
   ]
  },
  {
   "cell_type": "code",
   "execution_count": null,
   "metadata": {},
   "outputs": [],
   "source": [
    "print('RF-Pool is %0.2f times faster than 2x2 MaxPool' % (np.mean(t2) / np.mean(t0)))"
   ]
  },
  {
   "cell_type": "code",
   "execution_count": null,
   "metadata": {},
   "outputs": [],
   "source": [
    "print('RF-Pool output == 2x2 MaxPool output: %a' % (np.allclose(out2.numpy(), out0.reshape(out2.shape))))"
   ]
  },
  {
   "cell_type": "code",
   "execution_count": null,
   "metadata": {},
   "outputs": [],
   "source": [
    "def test_fn(a, b):\n",
    "    return np.mean(a) - np.mean(b)\n",
    "\n",
    "# bootstrap test difference\n",
    "diff0 = np.mean(t1) - np.mean(t0)\n",
    "\n",
    "z_mean = np.mean(t0 + t1)\n",
    "x_prime = np.array(t0) - np.mean(t0) + z_mean\n",
    "y_prime = np.array(t1) - np.mean(t1) + z_mean\n",
    "\n",
    "diffs = rf_pool.utils.functions.bootstrap(x_prime, y_prime, n_samples=1000, fn=test_fn)\n",
    "\n",
    "print('RF-Pool faster than previous approach: p = %a' % np.mean(diffs > diff0))"
   ]
  }
 ],
 "metadata": {
  "kernelspec": {
   "display_name": "Python 3",
   "language": "python",
   "name": "python3"
  },
  "language_info": {
   "codemirror_mode": {
    "name": "ipython",
    "version": 3
   },
   "file_extension": ".py",
   "mimetype": "text/x-python",
   "name": "python",
   "nbconvert_exporter": "python",
   "pygments_lexer": "ipython3",
   "version": "3.6.9"
  }
 },
 "nbformat": 4,
 "nbformat_minor": 2
}
