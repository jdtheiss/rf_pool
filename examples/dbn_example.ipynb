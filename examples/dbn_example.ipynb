{
 "cells": [
  {
   "cell_type": "code",
   "execution_count": null,
   "metadata": {
    "collapsed": true
   },
   "outputs": [],
   "source": [
    "import imp\n",
    "import numpy as np\n",
    "import torch\n",
    "import torchvision\n",
    "import torchvision.transforms as transforms\n",
    "\n",
    "from context import rf_pool"
   ]
  },
  {
   "cell_type": "code",
   "execution_count": null,
   "metadata": {
    "collapsed": true
   },
   "outputs": [],
   "source": [
    "from rf_pool import modules, models\n",
    "from rf_pool.utils import functions, datasets"
   ]
  },
  {
   "cell_type": "code",
   "execution_count": null,
   "metadata": {
    "collapsed": false
   },
   "outputs": [],
   "source": [
    "imp.reload(datasets)\n",
    "imp.reload(functions)\n",
    "imp.reload(modules)\n",
    "imp.reload(models)"
   ]
  },
  {
   "cell_type": "code",
   "execution_count": null,
   "metadata": {
    "collapsed": false
   },
   "outputs": [],
   "source": [
    "# get MNIST training data\n",
    "transform = transforms.Compose([transforms.ToTensor()])\n",
    "trainset = torchvision.datasets.MNIST(root='../rf_pool/data', train=True, download=True, transform=transform)"
   ]
  },
  {
   "cell_type": "code",
   "execution_count": null,
   "metadata": {
    "collapsed": true
   },
   "outputs": [],
   "source": [
    "# create trainloader\n",
    "trainloader = torch.utils.data.DataLoader(trainset, batch_size=1,\n",
    "                                          shuffle=True, num_workers=2)"
   ]
  },
  {
   "cell_type": "code",
   "execution_count": null,
   "metadata": {
    "collapsed": true
   },
   "outputs": [],
   "source": [
    "# initialize model\n",
    "dbn = rf_pool.models.DeepBeliefNetwork()"
   ]
  },
  {
   "cell_type": "code",
   "execution_count": null,
   "metadata": {
    "collapsed": true
   },
   "outputs": [],
   "source": [
    "# create receptive field pooling layer for probabilistic max pooling (Lee et al., 2009)\n",
    "rf_layer = rf_pool.layers.RF_Pool(kernel_size=2, pool_type='prob')"
   ]
  },
  {
   "cell_type": "code",
   "execution_count": null,
   "metadata": {
    "collapsed": false
   },
   "outputs": [],
   "source": [
    "# append two RBM layers with sigmoid vis/hid activations\n",
    "dbn.append(0, rf_pool.modules.RBM(hidden=torch.nn.Conv2d(1, 24, 11), activation=None, pool=rf_layer, \n",
    "                                  vis_activation_fn=torch.nn.Sigmoid(), vis_sample_fn=torch.distributions.Bernoulli,\n",
    "                                  hid_sample_fn=torch.distributions.Bernoulli))\n",
    "dbn.append(1, rf_pool.modules.RBM(hidden=torch.nn.Conv2d(24, 40, 9), activation=torch.nn.Sigmoid(), pool=None,\n",
    "                                  vis_activation_fn=torch.nn.Sigmoid(), vis_sample_fn=torch.distributions.Bernoulli,\n",
    "                                  hid_sample_fn=torch.distributions.Bernoulli))"
   ]
  },
  {
   "cell_type": "code",
   "execution_count": null,
   "metadata": {
    "collapsed": false
   },
   "outputs": [],
   "source": [
    "# train first layer with sparsity, monitor weights and negative examples\n",
    "optim = torch.optim.SGD(dbn.layers['0'].parameters(), lr=2e-2, momentum=0.9, weight_decay=2e-3)\n",
    "dbn.train('0', 1, trainloader, optim, monitor=100, k=1,\n",
    "          show_weights={'layer_id': '0', 'cmap': 'gray'}, \n",
    "          show_negative={'k': 1, 'cmap': 'gray'},\n",
    "          sparsity={'module_name': None, 'target': 0.002, 'cost': 5.})"
   ]
  },
  {
   "cell_type": "code",
   "execution_count": null,
   "metadata": {
    "collapsed": false,
    "scrolled": false
   },
   "outputs": [],
   "source": [
    "# train second layer, monitor weights and negative examples\n",
    "# note: second layer weights are projected to the image space\n",
    "optim = torch.optim.SGD(dbn.layers['1'].parameters(), lr=1e-2, momentum=0.9, weight_decay=1e-4)\n",
    "dbn.train('1', 1, trainloader, optim, monitor=100, k=1,\n",
    "          show_weights={'layer_id': '1', 'cmap': 'gray'},\n",
    "          show_negative={'k': 1, 'cmap': 'gray'})"
   ]
  }
 ],
 "metadata": {
  "kernelspec": {
   "display_name": "Python 3",
   "language": "python",
   "name": "python3"
  },
  "language_info": {
   "codemirror_mode": {
    "name": "ipython",
    "version": 3
   },
   "file_extension": ".py",
   "mimetype": "text/x-python",
   "name": "python",
   "nbconvert_exporter": "python",
   "pygments_lexer": "ipython3",
   "version": "3.6.8"
  }
 },
 "nbformat": 4,
 "nbformat_minor": 2
}
