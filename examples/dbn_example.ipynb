{
 "cells": [
  {
   "cell_type": "code",
   "execution_count": null,
   "metadata": {},
   "outputs": [],
   "source": [
    "import torch\n",
    "import torchvision\n",
    "import torchvision.transforms as transforms\n",
    "\n",
    "from context import rf_pool"
   ]
  },
  {
   "cell_type": "code",
   "execution_count": null,
   "metadata": {},
   "outputs": [],
   "source": [
    "# get MNIST training data\n",
    "transform = transforms.Compose([transforms.ToTensor()])\n",
    "trainset = torchvision.datasets.MNIST(root='../data', train=True, download=True, transform=transform)\n",
    "testset = torchvision.datasets.MNIST(root='../data', train=False, download=True, transform=transform)"
   ]
  },
  {
   "cell_type": "code",
   "execution_count": null,
   "metadata": {},
   "outputs": [],
   "source": [
    "# create trainloader\n",
    "trainloader = torch.utils.data.DataLoader(trainset, batch_size=1,\n",
    "                                          shuffle=True, num_workers=2)\n",
    "testloader = torch.utils.data.DataLoader(testset, batch_size=1,\n",
    "                                          shuffle=True, num_workers=2)"
   ]
  },
  {
   "cell_type": "code",
   "execution_count": null,
   "metadata": {},
   "outputs": [],
   "source": [
    "# initialize model\n",
    "dbn = rf_pool.models.DeepBeliefNetwork()"
   ]
  },
  {
   "cell_type": "code",
   "execution_count": null,
   "metadata": {},
   "outputs": [],
   "source": [
    "# create receptive field pooling layer for probabilistic max pooling (Lee et al., 2009)\n",
    "rf_layer = rf_pool.pool.ProbmaxPool(2)"
   ]
  },
  {
   "cell_type": "code",
   "execution_count": null,
   "metadata": {},
   "outputs": [],
   "source": [
    "# Set Multinomial log partition function\n",
    "log_part_fn = lambda x : torch.log(1. + torch.nn.functional.lp_pool2d(torch.exp(x), 1, (2,2)))"
   ]
  },
  {
   "cell_type": "code",
   "execution_count": null,
   "metadata": {},
   "outputs": [],
   "source": [
    "# append two RBM layers with sigmoid vis/hid activations\n",
    "dbn.append(0, rf_pool.modules.RBM(hidden=torch.nn.Conv2d(1, 24, 11), activation=None, \n",
    "                                  pool=rf_layer, log_part_fn=log_part_fn,\n",
    "                                  sample=torch.distributions.Bernoulli,\n",
    "                                  vis_activation=torch.nn.Sigmoid(),\n",
    "                                  vis_sample=torch.distributions.Bernoulli))\n",
    "dbn.append(1, rf_pool.modules.RBM(hidden=torch.nn.Conv2d(24, 40, 9), activation=torch.nn.Sigmoid(), \n",
    "                                  pool=None, sample=torch.distributions.Bernoulli,\n",
    "                                  vis_activation=torch.nn.Sigmoid(), \n",
    "                                  vis_sample=torch.distributions.Bernoulli))"
   ]
  },
  {
   "cell_type": "code",
   "execution_count": null,
   "metadata": {},
   "outputs": [],
   "source": [
    "# train first layer with sparsity, monitor weights and negative examples\n",
    "optim = torch.optim.SGD(dbn.layers['0'].parameters(), lr=1e-2)\n",
    "loss_history0 = dbn.train_layer('0', 1, trainloader, optim, monitor=100, k=1,\n",
    "                                persistent=torch.zeros(20,1,28,28),\n",
    "                                show_weights={'layer_id': '0', 'cmap': 'gray'}, \n",
    "                                show_negative={'layer_id': '0', 'n_images': 5, 'cmap': 'gray'},\n",
    "                                monitor_fn={'fn': dbn.layers['0'].pseudo_likelihood})"
   ]
  },
  {
   "cell_type": "code",
   "execution_count": null,
   "metadata": {},
   "outputs": [],
   "source": [
    "# train second layer, monitor weights and negative examples\n",
    "# note: second layer weights are projected to the image space\n",
    "optim = torch.optim.SGD(dbn.layers['1'].parameters(), lr=1e-3)\n",
    "loss_history1 = dbn.train_layer('1', 1, trainloader, optim, monitor=100, k=1,\n",
    "                                persistent=torch.zeros(20,24,9,9),\n",
    "                                show_weights={'layer_id': '1', 'cmap': 'gray'},\n",
    "                                show_negative={'layer_id': '1', 'n_images': 5, 'cmap': 'gray'},\n",
    "                                monitor_fn={'fn': dbn.layers['1'].pseudo_likelihood})"
   ]
  }
 ],
 "metadata": {
  "kernelspec": {
   "display_name": "Python 3",
   "language": "python",
   "name": "python3"
  },
  "language_info": {
   "codemirror_mode": {
    "name": "ipython",
    "version": 3
   },
   "file_extension": ".py",
   "mimetype": "text/x-python",
   "name": "python",
   "nbconvert_exporter": "python",
   "pygments_lexer": "ipython3",
   "version": "3.6.9"
  }
 },
 "nbformat": 4,
 "nbformat_minor": 2
}
