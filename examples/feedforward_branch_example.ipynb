{
 "cells": [
  {
   "cell_type": "code",
   "execution_count": null,
   "metadata": {},
   "outputs": [],
   "source": [
    "import imp\n",
    "import numpy as np\n",
    "import torch\n",
    "import torchvision\n",
    "import torchvision.transforms as transforms\n",
    "\n",
    "from context import rf_pool"
   ]
  },
  {
   "cell_type": "code",
   "execution_count": null,
   "metadata": {},
   "outputs": [],
   "source": [
    "# get MNIST training data\n",
    "transform = transforms.Compose([transforms.RandomRotation((90,90)),\n",
    "                                transforms.RandomVerticalFlip(1.),\n",
    "                                transforms.ToTensor()])\n",
    "trainset = torchvision.datasets.EMNIST(root='../data',  split='byclass',\n",
    "                                      train=True, download=True, \n",
    "                                      transform=transform)"
   ]
  },
  {
   "cell_type": "code",
   "execution_count": null,
   "metadata": {},
   "outputs": [],
   "source": [
    "# create trainloader\n",
    "trainloader = torch.utils.data.DataLoader(trainset, batch_size=1,\n",
    "                                          shuffle=True, num_workers=2)"
   ]
  },
  {
   "cell_type": "code",
   "execution_count": null,
   "metadata": {},
   "outputs": [],
   "source": [
    "# initialize model\n",
    "model = rf_pool.models.FeedForwardNetwork()"
   ]
  },
  {
   "cell_type": "code",
   "execution_count": null,
   "metadata": {},
   "outputs": [],
   "source": [
    "# append layers of model\n",
    "model.append('0', rf_pool.modules.FeedForward(hidden=torch.nn.Conv2d(1,16,5), activation=torch.nn.ReLU(), \n",
    "                                              pool=torch.nn.MaxPool2d(2)))\n",
    "model.append('1', rf_pool.modules.FeedForward(hidden=torch.nn.Conv2d(16,32,5), activation=torch.nn.ReLU(),\n",
    "                                              pool=torch.nn.MaxPool2d(2)))\n",
    "model.append('2', rf_pool.modules.FeedForward(hidden=torch.nn.Conv2d(32,64,4)))\n",
    "branch0 = rf_pool.modules.FeedForward(hidden=torch.nn.Linear(64,10))\n",
    "branch1 = rf_pool.modules.FeedForward(hidden=torch.nn.Linear(64,52))\n",
    "model.append('3', rf_pool.modules.Branch(input_shape=(-1, 64), branches=[branch0, branch1], cat_output=True))"
   ]
  },
  {
   "cell_type": "code",
   "execution_count": null,
   "metadata": {},
   "outputs": [],
   "source": [
    "# print output_shapes with branch output concatenated\n",
    "model.output_shapes((1,1,28,28))"
   ]
  },
  {
   "cell_type": "code",
   "execution_count": null,
   "metadata": {},
   "outputs": [],
   "source": [
    "# set loss function and optimizer\n",
    "loss_fn = torch.nn.CrossEntropyLoss()\n",
    "optim = torch.optim.SGD(model.parameters(), lr=0.001, momentum=0.9)"
   ]
  },
  {
   "cell_type": "code",
   "execution_count": null,
   "metadata": {},
   "outputs": [],
   "source": [
    "# train model, monitor weights and lattice\n",
    "loss_history = model.train(1, trainloader, loss_fn, optim, monitor=100,\n",
    "                           show_weights={'layer_id': '0', 'cmap': 'gray'})"
   ]
  },
  {
   "cell_type": "code",
   "execution_count": null,
   "metadata": {},
   "outputs": [],
   "source": [
    "# set concatenate output to False\n",
    "model.layers['3'].cat_output = False"
   ]
  },
  {
   "cell_type": "code",
   "execution_count": null,
   "metadata": {},
   "outputs": [],
   "source": [
    "# print digit and letter predictions\n",
    "letters = [chr(n) for n in np.concatenate([np.arange(65,91), np.arange(97,123)])]\n",
    "digits_letters = np.concatenate([np.arange(10), letters])\n",
    "data = iter(trainloader).next()\n",
    "print('actual:', digits_letters[data[1]])\n",
    "outputs = model(data[0])\n",
    "print('predicted digit:', torch.argmax(outputs[0]).item())\n",
    "print('predicted letter:', letters[torch.argmax(outputs[1])])"
   ]
  }
 ],
 "metadata": {
  "kernelspec": {
   "display_name": "Python 3",
   "language": "python",
   "name": "python3"
  },
  "language_info": {
   "codemirror_mode": {
    "name": "ipython",
    "version": 3
   },
   "file_extension": ".py",
   "mimetype": "text/x-python",
   "name": "python",
   "nbconvert_exporter": "python",
   "pygments_lexer": "ipython3",
   "version": "3.6.9"
  }
 },
 "nbformat": 4,
 "nbformat_minor": 2
}
