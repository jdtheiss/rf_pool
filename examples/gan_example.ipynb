{
 "cells": [
  {
   "cell_type": "code",
   "execution_count": null,
   "metadata": {},
   "outputs": [],
   "source": [
    "import matplotlib.pyplot as plt\n",
    "import numpy as np\n",
    "import torch\n",
    "import torchvision\n",
    "from torchvision import transforms\n",
    "\n",
    "from context import rf_pool"
   ]
  },
  {
   "cell_type": "markdown",
   "metadata": {},
   "source": [
    "**Load Data**"
   ]
  },
  {
   "cell_type": "code",
   "execution_count": null,
   "metadata": {},
   "outputs": [],
   "source": [
    "# get MNIST training data\n",
    "transform = transforms.Compose([transforms.ToTensor(),\n",
    "                                transforms.Normalize((0.5,),(0.5,))])\n",
    "trainset = torchvision.datasets.MNIST(root='../data', train=True, download=True, transform=transform)\n",
    "testset = torchvision.datasets.MNIST(root='../data', train=False, download=True, transform=transform)"
   ]
  },
  {
   "cell_type": "code",
   "execution_count": null,
   "metadata": {},
   "outputs": [],
   "source": [
    "# create trainloader\n",
    "trainloader = torch.utils.data.DataLoader(trainset, batch_size=100,\n",
    "                                          shuffle=True, num_workers=2)\n",
    "testloader = torch.utils.data.DataLoader(testset, batch_size=100,\n",
    "                                         shuffle=True, num_workers=2)"
   ]
  },
  {
   "cell_type": "markdown",
   "metadata": {},
   "source": [
    "**Build Model**"
   ]
  },
  {
   "cell_type": "code",
   "execution_count": null,
   "metadata": {},
   "outputs": [],
   "source": [
    "# initialize the GAN model (as well as generator and discriminator)\n",
    "model = rf_pool.models.GAN()\n",
    "generator = rf_pool.models.FeedForwardNetwork()\n",
    "discriminator = rf_pool.models.FeedForwardNetwork()"
   ]
  },
  {
   "cell_type": "code",
   "execution_count": null,
   "metadata": {},
   "outputs": [],
   "source": [
    "# append layers to generator\n",
    "generator.append('0', rf_pool.modules.FeedForward(random_sampler=lambda x: torch.randn(x.shape[0], 100)))\n",
    "generator.append('1', rf_pool.modules.FeedForward(linear=torch.nn.Linear(100, 256),\n",
    "                                                  activation=torch.nn.LeakyReLU(0.2)))\n",
    "generator.append('2', rf_pool.modules.FeedForward(linear=torch.nn.Linear(256, 512), \n",
    "                                                  activation=torch.nn.LeakyReLU(0.2)))\n",
    "generator.append('3', rf_pool.modules.FeedForward(linear=torch.nn.Linear(512, 1024), \n",
    "                                                  activation=torch.nn.LeakyReLU(0.2)))\n",
    "generator.append('4', rf_pool.modules.FeedForward(linear=torch.nn.Linear(1024, 28*28),\n",
    "                                                  activation=torch.nn.Tanh()))\n",
    "generator.append('5', rf_pool.modules.FeedForward(input_shape=(-1, 1, 28, 28)))"
   ]
  },
  {
   "cell_type": "code",
   "execution_count": null,
   "metadata": {},
   "outputs": [],
   "source": [
    "# append layers to discriminator\n",
    "discriminator.append('0', rf_pool.modules.FeedForward(input_shape=(-1, 28*28),\n",
    "                                                      linear=torch.nn.Linear(28*28, 1024),\n",
    "                                                      activation=torch.nn.LeakyReLU(0.2),\n",
    "                                                      dropout=torch.nn.Dropout(0.3)))\n",
    "discriminator.append('1', rf_pool.modules.FeedForward(linear=torch.nn.Linear(1024, 512),\n",
    "                                                      activation=torch.nn.LeakyReLU(0.2),\n",
    "                                                      dropout=torch.nn.Dropout(0.3)))\n",
    "discriminator.append('2', rf_pool.modules.FeedForward(linear=torch.nn.Linear(512, 256),\n",
    "                                                      activation=torch.nn.LeakyReLU(0.2),\n",
    "                                                      dropout=torch.nn.Dropout(0.3)))\n",
    "discriminator.append('3', rf_pool.modules.FeedForward(linear=torch.nn.Linear(256, 1), \n",
    "                                                      activation=torch.nn.Sigmoid()))"
   ]
  },
  {
   "cell_type": "code",
   "execution_count": null,
   "metadata": {},
   "outputs": [],
   "source": [
    "# add generator and discriminator to GAN\n",
    "model.add_generator(generator)\n",
    "model.add_discriminator(discriminator)"
   ]
  },
  {
   "cell_type": "code",
   "execution_count": null,
   "metadata": {},
   "outputs": [],
   "source": [
    "# set optimizer\n",
    "optim = torch.optim.Adam(model.parameters(), lr=2e-4)"
   ]
  },
  {
   "cell_type": "markdown",
   "metadata": {},
   "source": [
    "**Set Metrics for Monitoring**"
   ]
  },
  {
   "cell_type": "code",
   "execution_count": null,
   "metadata": {},
   "outputs": [],
   "source": [
    "class Metrics(object):\n",
    "    def show_samples(self, n_samples=1):\n",
    "        return rf_pool.utils.visualize.show_images(generator(torch.zeros(n_samples,)),\n",
    "                                                   cmap='gray')\n",
    "    \n",
    "    def discriminator_prob(self, dataloader):\n",
    "        x = iter(dataloader).next()[0]\n",
    "        return torch.mean(discriminator(x)).item()"
   ]
  },
  {
   "cell_type": "markdown",
   "metadata": {},
   "source": [
    "**Train GAN**"
   ]
  },
  {
   "cell_type": "code",
   "execution_count": null,
   "metadata": {},
   "outputs": [],
   "source": [
    "# train GAN, monitor discriminator\n",
    "loss_history = model.train_model(2, trainloader, optimizer=optim, monitor=100,\n",
    "                                 metrics=Metrics(), show_samples={'n_samples': 10},\n",
    "                                 discriminator_prob={'dataloader': testloader})"
   ]
  }
 ],
 "metadata": {
  "kernelspec": {
   "display_name": "Python 3",
   "language": "python",
   "name": "python3"
  },
  "language_info": {
   "codemirror_mode": {
    "name": "ipython",
    "version": 3
   },
   "file_extension": ".py",
   "mimetype": "text/x-python",
   "name": "python",
   "nbconvert_exporter": "python",
   "pygments_lexer": "ipython3",
   "version": "3.6.9"
  }
 },
 "nbformat": 4,
 "nbformat_minor": 2
}
