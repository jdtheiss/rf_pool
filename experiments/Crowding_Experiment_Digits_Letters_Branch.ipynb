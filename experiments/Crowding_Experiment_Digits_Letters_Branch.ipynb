{
 "cells": [
  {
   "cell_type": "code",
   "execution_count": null,
   "metadata": {
    "collapsed": false
   },
   "outputs": [],
   "source": [
    "import imp\n",
    "import matplotlib.pyplot as plt\n",
    "import numpy as np\n",
    "import torch\n",
    "import torchvision\n",
    "import torchvision.transforms as transforms\n",
    "\n",
    "from context import rf_pool"
   ]
  },
  {
   "cell_type": "code",
   "execution_count": null,
   "metadata": {
    "collapsed": true
   },
   "outputs": [],
   "source": [
    "from rf_pool import modules, models, layers, ops\n",
    "from rf_pool.utils import functions, datasets"
   ]
  },
  {
   "cell_type": "code",
   "execution_count": null,
   "metadata": {
    "collapsed": false
   },
   "outputs": [],
   "source": [
    "imp.reload(datasets)\n",
    "imp.reload(functions)\n",
    "imp.reload(ops)\n",
    "imp.reload(layers)\n",
    "imp.reload(modules)\n",
    "imp.reload(models)"
   ]
  },
  {
   "cell_type": "code",
   "execution_count": null,
   "metadata": {
    "collapsed": false
   },
   "outputs": [],
   "source": [
    "# get MNIST training data\n",
    "transform = transforms.Compose([\n",
    "                                transforms.Pad(12),\n",
    "                                transforms.RandomRotation((90,90)),\n",
    "                                transforms.RandomVerticalFlip(1.),\n",
    "                                transforms.ToTensor()\n",
    "                                ])\n",
    "trainset = torchvision.datasets.EMNIST(root='../rf_pool/data', split='byclass', train=True, download=True, \n",
    "                                       transform=transform)\n",
    "testset = torchvision.datasets.EMNIST(root='../rf_pool/data', split='byclass', train=False, download=True,\n",
    "                                     transform=transform)"
   ]
  },
  {
   "cell_type": "code",
   "execution_count": null,
   "metadata": {
    "collapsed": true
   },
   "outputs": [],
   "source": [
    "# for shifting fractured label sets\n",
    "def custom_mapping(labels):\n",
    "    init = np.sort(labels)\n",
    "    out = np.arange(0,len(init))\n",
    "    return {i:o for i,o in zip(init, out)}"
   ]
  },
  {
   "cell_type": "code",
   "execution_count": null,
   "metadata": {
    "collapsed": true
   },
   "outputs": [],
   "source": [
    "# get crowded MNIST training data\n",
    "target_labels = list(np.arange(10))+list(np.arange(36,62))\n",
    "crowd_train = datasets.CrowdedDataset(trainset, 0, 100000, target_labels=target_labels,\n",
    "                                      transform=transforms.ToTensor(), label_map=custom_mapping(target_labels),\n",
    "                                      spacing=0, background_size=52)"
   ]
  },
  {
   "cell_type": "code",
   "execution_count": null,
   "metadata": {
    "collapsed": false
   },
   "outputs": [],
   "source": [
    "crowd_test = datasets.CrowdedDataset(testset, 0, 25000, target_labels=target_labels,\n",
    "                                     transform=transforms.ToTensor(), label_map=custom_mapping(target_labels),\n",
    "                                     spacing=0, background_size=52)"
   ]
  },
  {
   "cell_type": "code",
   "execution_count": null,
   "metadata": {
    "collapsed": false
   },
   "outputs": [],
   "source": [
    "# create trainloader\n",
    "trainloader = torch.utils.data.DataLoader(crowd_train, batch_size=10,\n",
    "                                          shuffle=True, num_workers=2)\n",
    "testloader = torch.utils.data.DataLoader(crowd_test, batch_size=10,\n",
    "                                         shuffle=True, num_workers=2)"
   ]
  },
  {
   "cell_type": "code",
   "execution_count": null,
   "metadata": {
    "collapsed": true
   },
   "outputs": [],
   "source": [
    "# initialize model\n",
    "model = rf_pool.models.FeedForwardNetwork()"
   ]
  },
  {
   "cell_type": "code",
   "execution_count": null,
   "metadata": {
    "collapsed": false
   },
   "outputs": [],
   "source": [
    "# append layers of model\n",
    "model.append('0', rf_pool.modules.FeedForward(hidden=torch.nn.Conv2d(1,16,5), \n",
    "                                              activation=torch.nn.ReLU(), \n",
    "                                              pool=torch.nn.MaxPool2d(2)))\n",
    "model.append('1', rf_pool.modules.FeedForward(hidden=torch.nn.Conv2d(16,32,5), \n",
    "                                              activation=torch.nn.ReLU(),\n",
    "                                              pool=torch.nn.MaxPool2d(2)))\n",
    "model.append('2', rf_pool.modules.FeedForward(hidden=torch.nn.Conv2d(32,32,5),\n",
    "                                              activation=torch.nn.ReLU(),\n",
    "                                              pool=torch.nn.MaxPool2d(2)))\n",
    "branch2 = rf_pool.modules.FeedForward(hidden=torch.nn.Conv2d(32,10,3))\n",
    "branch3 = rf_pool.modules.FeedForward(hidden=torch.nn.Conv2d(32,26,3))\n",
    "model.append('3', rf_pool.modules.Branch(branches=[branch2, branch3], cat_output=True))\n",
    "model.append('4', rf_pool.modules.FeedForward(input_shape=(-1,36)))"
   ]
  },
  {
   "cell_type": "code",
   "execution_count": null,
   "metadata": {
    "collapsed": false
   },
   "outputs": [],
   "source": [
    "# print output_shapes with branch output concatenated\n",
    "model.output_shapes((1,1,52,52))"
   ]
  },
  {
   "cell_type": "code",
   "execution_count": null,
   "metadata": {
    "collapsed": true
   },
   "outputs": [],
   "source": [
    "# set loss function and optimizer\n",
    "loss_fn = torch.nn.CrossEntropyLoss()\n",
    "optim = torch.optim.SGD(model.parameters(), lr=0.001, momentum=0.9)"
   ]
  },
  {
   "cell_type": "code",
   "execution_count": null,
   "metadata": {
    "collapsed": true
   },
   "outputs": [],
   "source": [
    "# train model, monitor weights and lattice\n",
    "loss_history = model.train(1, crowded_loader, loss_fn, optim, monitor=100,\n",
    "                           label_params=label_params,\n",
    "                           show_weights={'layer_id': '0', 'cmap': 'gray'})"
   ]
  },
  {
   "cell_type": "code",
   "execution_count": null,
   "metadata": {
    "collapsed": false
   },
   "outputs": [],
   "source": [
    "model.get_accuracy(testloader)"
   ]
  },
  {
   "cell_type": "code",
   "execution_count": null,
   "metadata": {
    "collapsed": false
   },
   "outputs": [],
   "source": [
    "# crowded digit dataset\n",
    "target_labels = list(np.arange(10))+list(np.arange(36,62))\n",
    "crowd_test = datasets.CrowdedDataset(testset, 0, 25000, target_labels=target_labels,\n",
    "                                  transform=transforms.ToTensor(), label_map=custom_mapping(target_labels),\n",
    "                                  spacing=0, background_size=100)"
   ]
  },
  {
   "cell_type": "code",
   "execution_count": null,
   "metadata": {
    "collapsed": true
   },
   "outputs": [],
   "source": [
    "# create trainloader\n",
    "crowd_testloader = torch.utils.data.DataLoader(crowd_test, batch_size=10,\n",
    "                                               shuffle=True, num_workers=2)"
   ]
  },
  {
   "cell_type": "code",
   "execution_count": null,
   "metadata": {
    "collapsed": false
   },
   "outputs": [],
   "source": [
    "data, label = iter(crowd_testloader).next()\n",
    "plt.imshow(data[0,0], cmap='gray')\n",
    "plt.show()\n",
    "label[0]"
   ]
  },
  {
   "cell_type": "code",
   "execution_count": null,
   "metadata": {
    "collapsed": false
   },
   "outputs": [],
   "source": [
    "model.layers.pop('4')"
   ]
  },
  {
   "cell_type": "code",
   "execution_count": null,
   "metadata": {
    "collapsed": false
   },
   "outputs": [],
   "source": [
    "model.output_shapes(data.shape)"
   ]
  },
  {
   "cell_type": "code",
   "execution_count": null,
   "metadata": {
    "collapsed": false
   },
   "outputs": [],
   "source": [
    "model.get_accuracy(crowd_testloader, crop=(slice(3,4), slice(3,4)))"
   ]
  },
  {
   "cell_type": "code",
   "execution_count": null,
   "metadata": {
    "collapsed": false
   },
   "outputs": [],
   "source": [
    "# rf layer\n",
    "img_shape = torch.as_tensor((44,44))\n",
    "mu, sigma = rf_pool.utils.lattice.init_foveated_lattice(img_shape, 0.23, 0., n_rf=None, n_rings=10, offset=[0.,-20.])\n",
    "rf_layer = rf_pool.layers.RF_Pool(mu=mu, sigma=sigma, img_shape=img_shape, \n",
    "                                  lattice_fn=rf_pool.utils.lattice.mask_kernel_lattice,\n",
    "                                  pool_type='max', kernel_size=2)\n",
    "rf_layer.show_lattice()\n",
    "print(mu.shape)\n",
    "n_kernels = mu.shape[0]"
   ]
  },
  {
   "cell_type": "code",
   "execution_count": null,
   "metadata": {
    "collapsed": false
   },
   "outputs": [],
   "source": [
    "model.layers['1'].forward_layer.add_module('pool', rf_layer)"
   ]
  }
 ],
 "metadata": {
  "kernelspec": {
   "display_name": "Python 3",
   "language": "python",
   "name": "python3"
  },
  "language_info": {
   "codemirror_mode": {
    "name": "ipython",
    "version": 3
   },
   "file_extension": ".py",
   "mimetype": "text/x-python",
   "name": "python",
   "nbconvert_exporter": "python",
   "pygments_lexer": "ipython3",
   "version": "3.6.8"
  }
 },
 "nbformat": 4,
 "nbformat_minor": 2
}
