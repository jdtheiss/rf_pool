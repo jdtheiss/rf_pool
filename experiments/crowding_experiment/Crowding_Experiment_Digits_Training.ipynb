{
 "cells": [
  {
   "cell_type": "code",
   "execution_count": null,
   "metadata": {},
   "outputs": [],
   "source": [
    "import imp\n",
    "import matplotlib.pyplot as plt\n",
    "import numpy as np\n",
    "import torch\n",
    "import torchvision\n",
    "import torchvision.transforms as transforms\n",
    "\n",
    "from context import rf_pool"
   ]
  },
  {
   "cell_type": "code",
   "execution_count": null,
   "metadata": {},
   "outputs": [],
   "source": [
    "from rf_pool import modules, models, layers, ops\n",
    "from rf_pool.utils import functions, datasets, stimuli"
   ]
  },
  {
   "cell_type": "code",
   "execution_count": null,
   "metadata": {},
   "outputs": [],
   "source": [
    "imp.reload(functions)\n",
    "imp.reload(stimuli)\n",
    "imp.reload(datasets)\n",
    "imp.reload(ops)\n",
    "imp.reload(layers)\n",
    "imp.reload(modules)\n",
    "imp.reload(models)"
   ]
  },
  {
   "cell_type": "code",
   "execution_count": null,
   "metadata": {},
   "outputs": [],
   "source": [
    "# get MNIST training data\n",
    "transform = transforms.Compose([transforms.ToTensor()])\n",
    "trainset = torchvision.datasets.MNIST(root='../rf_pool/data', train=True, download=True, \n",
    "                                       transform=transform)\n",
    "testset = torchvision.datasets.MNIST(root='../rf_pool/data', train=False, download=True,\n",
    "                                     transform=transform)"
   ]
  },
  {
   "cell_type": "code",
   "execution_count": null,
   "metadata": {},
   "outputs": [],
   "source": [
    "# create trainloader\n",
    "trainloader = torch.utils.data.DataLoader(trainset, batch_size=10,\n",
    "                                          shuffle=True, num_workers=2)\n",
    "testloader = torch.utils.data.DataLoader(testset, batch_size=10,\n",
    "                                         shuffle=True, num_workers=2)"
   ]
  },
  {
   "cell_type": "code",
   "execution_count": null,
   "metadata": {},
   "outputs": [],
   "source": [
    "# initialize model\n",
    "model = rf_pool.models.FeedForwardNetwork()"
   ]
  },
  {
   "cell_type": "code",
   "execution_count": null,
   "metadata": {},
   "outputs": [],
   "source": [
    "# append layers of model\n",
    "model.append('0', rf_pool.modules.FeedForward(hidden=torch.nn.Conv2d(1,32,5),\n",
    "                                              activation=torch.nn.ReLU(), \n",
    "                                              pool=torch.nn.MaxPool2d(2)))\n",
    "model.append('1', rf_pool.modules.FeedForward(hidden=torch.nn.Conv2d(32,64,5),\n",
    "                                              activation=torch.nn.ReLU(),\n",
    "                                              pool=torch.nn.MaxPool2d(2)))\n",
    "model.append('2', rf_pool.modules.FeedForward(hidden=torch.nn.Conv2d(64,10,4)))\n",
    "model.append('3', rf_pool.modules.FeedForward(input_shape=(-1,10)))"
   ]
  },
  {
   "cell_type": "code",
   "execution_count": null,
   "metadata": {},
   "outputs": [],
   "source": [
    "# set loss function and optimizer\n",
    "loss_fn = torch.nn.CrossEntropyLoss()\n",
    "optim = torch.optim.SGD(model.parameters(), lr=0.001, momentum=0.9)"
   ]
  },
  {
   "cell_type": "code",
   "execution_count": null,
   "metadata": {},
   "outputs": [],
   "source": [
    "# train model, monitor weights and lattice\n",
    "loss_history = model.train(1, trainloader, loss_fn, optim, monitor=100,\n",
    "                           show_weights={'layer_id': '0', 'cmap': 'gray'})"
   ]
  },
  {
   "cell_type": "code",
   "execution_count": null,
   "metadata": {},
   "outputs": [],
   "source": [
    "acc = model.get_accuracy(testloader)"
   ]
  },
  {
   "cell_type": "code",
   "execution_count": null,
   "metadata": {},
   "outputs": [],
   "source": [
    "(_, extras) = model.load_model('crowding_experiment/attention_3deg.pkl')\n",
    "crowd_int = extras.get('crowd_int')"
   ]
  },
  {
   "cell_type": "code",
   "execution_count": null,
   "metadata": {},
   "outputs": [],
   "source": [
    "fig = plt.figure()\n",
    "plt.plot(crowd_int.get('extent'), [1. - np.mean(c) for c in crowd_int.get('outer')])\n",
    "plt.plot(crowd_int.get('extent'), [1. - np.mean(c) for c in crowd_int.get('inner')])\n",
    "plt.plot(crowd_int.get('extent'), [1. - np.mean(c) for c in crowd_int.get('radial')])\n",
    "plt.plot(crowd_int.get('extent'), [1. - np.mean(c) for c in crowd_int.get('tangential')])\n",
    "plt.legend(['outer', 'inner', 'radial','tangential'])\n",
    "plt.show()\n",
    "# fig.savefig('crowding_experiment/test.png', dpi=600)"
   ]
  },
  {
   "cell_type": "markdown",
   "metadata": {},
   "source": [
    "Add receptive field layer, test on crowded digits"
   ]
  },
  {
   "cell_type": "code",
   "execution_count": null,
   "metadata": {},
   "outputs": [],
   "source": [
    "# remove reshape layer \n",
    "model.layers.pop('3')"
   ]
  },
  {
   "cell_type": "code",
   "execution_count": null,
   "metadata": {},
   "outputs": [],
   "source": [
    "model.output_shapes(data.shape)"
   ]
  },
  {
   "cell_type": "code",
   "execution_count": null,
   "metadata": {},
   "outputs": [],
   "source": [
    "model.append('4', rf_pool.modules.FeedForward(input_shape=(-1,10)))"
   ]
  },
  {
   "cell_type": "code",
   "execution_count": null,
   "metadata": {
    "scrolled": true
   },
   "outputs": [],
   "source": [
    "# get crowded MNIST training data\n",
    "crowd_set = datasets.CrowdedDataset(testset, 1, 1000,\n",
    "                                      transform=transforms.ToTensor(),\n",
    "                                      spacing=20, background_size=118, axis=0)\n",
    "crowd_loader = torch.utils.data.DataLoader(crowd_set, batch_size=10,\n",
    "                                             shuffle=True, num_workers=2)"
   ]
  },
  {
   "cell_type": "code",
   "execution_count": null,
   "metadata": {},
   "outputs": [],
   "source": [
    "data, label = iter(crowd_loader).next()\n",
    "plt.imshow(data[0,0], cmap='gray')\n",
    "plt.show()\n",
    "print(label[0])"
   ]
  },
  {
   "cell_type": "code",
   "execution_count": null,
   "metadata": {},
   "outputs": [],
   "source": [
    "from rf_pool.utils import visualize\n",
    "imp.reload(visualize)"
   ]
  },
  {
   "cell_type": "code",
   "execution_count": null,
   "metadata": {},
   "outputs": [],
   "source": [
    "data = torch.zeros(1, 1, 118, 118)\n",
    "data[:,:,59-14:59+14, 59-14:59+14] = 1.\n",
    "rf_idx = rf_pool.utils.visualize.index_rfs(model, '1', data)[0]"
   ]
  },
  {
   "cell_type": "code",
   "execution_count": null,
   "metadata": {},
   "outputs": [],
   "source": [
    "heatmap = rf_pool.utils.visualize.rf_heatmap(model, '1')"
   ]
  },
  {
   "cell_type": "code",
   "execution_count": null,
   "metadata": {},
   "outputs": [],
   "source": [
    "tmp = torch.rand(53, 1, 1)"
   ]
  },
  {
   "cell_type": "code",
   "execution_count": null,
   "metadata": {},
   "outputs": [],
   "source": [
    "plt.imshow(torch.sum(heatmap * tmp, 0))\n",
    "plt.show()"
   ]
  },
  {
   "cell_type": "code",
   "execution_count": null,
   "metadata": {},
   "outputs": [],
   "source": [
    "# rf layer\n",
    "img_shape = torch.as_tensor((53,53))\n",
    "mu, sigma = rf_pool.utils.lattice.init_foveated_lattice(img_shape, 0.23, 0., n_rf=None, n_rings=11, offset=[0.,-30.])\n",
    "rf_layer = rf_pool.layers.RF_Pool(mu=mu[rf_idx], sigma=sigma[rf_idx], img_shape=img_shape, \n",
    "                                  lattice_fn=rf_pool.utils.lattice.mask_kernel_lattice,\n",
    "                                  pool_type=None, kernel_size=2, thr=np.exp(-1.))\n",
    "rf_layer.show_lattice()\n",
    "print(mu.shape)\n",
    "n_kernels = mu.shape[0]"
   ]
  },
  {
   "cell_type": "code",
   "execution_count": null,
   "metadata": {},
   "outputs": [],
   "source": [
    "model.layers['1'].forward_layer.add_module('pool', rf_layer)"
   ]
  },
  {
   "cell_type": "code",
   "execution_count": null,
   "metadata": {},
   "outputs": [],
   "source": [
    "model.output_shapes((1,1,118,118))"
   ]
  },
  {
   "cell_type": "code",
   "execution_count": null,
   "metadata": {},
   "outputs": [],
   "source": [
    "data, label = iter(crowd_loader).next()\n",
    "plt.imshow(data[0,0], cmap='gray')\n",
    "plt.show()\n",
    "print(label[0])"
   ]
  },
  {
   "cell_type": "code",
   "execution_count": null,
   "metadata": {},
   "outputs": [],
   "source": [
    "acc_2d = {'spacing': [0.75, 1., 1.25, 1.5, 1.75],\n",
    "          'outer': [55.1,64.4,65.3,], 'inner': [52.0,65.5,70.1], \n",
    "          'radial': [31.6,58.6,65.2], 'tangential': [41.1,66.4,71.7], \n",
    "          'none': [72.5]}"
   ]
  },
  {
   "cell_type": "code",
   "execution_count": null,
   "metadata": {},
   "outputs": [],
   "source": [
    "acc_2d_3layer = {'spacing': [0.75,1.,1.25,1.5,1.75], \n",
    "                 'outer': [], 'inner': [],\n",
    "                 'radial': [], 'tangential': [], \n",
    "                 'none': []}"
   ]
  },
  {
   "cell_type": "code",
   "execution_count": null,
   "metadata": {},
   "outputs": [],
   "source": [
    "for spacing in [1.25, 1.5, 1.75]:\n",
    "    for key in ['outer','inner']:#,'radial','tangential']:\n",
    "        if key in ['radial','tangential']:\n",
    "            n_flankers = 2\n",
    "        else:\n",
    "            n_flankers = 1\n",
    "        if key == 'inner':\n",
    "            axis = np.pi\n",
    "        elif key == 'tangential':\n",
    "            axis = np.pi / 2.\n",
    "        else:\n",
    "            axis = 0.\n",
    "        # get crowded MNIST training data\n",
    "        testset = torchvision.datasets.MNIST(root='../rf_pool/data', train=False, download=True,\n",
    "                                             transform=transform)\n",
    "        crowd_set = datasets.CrowdedDataset(testset, n_flankers, 1000,\n",
    "                                              transform=transforms.ToTensor(),\n",
    "                                              spacing=20*spacing, background_size=100, axis=axis)\n",
    "        crowd_loader = torch.utils.data.DataLoader(crowd_set, batch_size=2,\n",
    "                                                   shuffle=True, num_workers=2)\n",
    "        # get accuracy \n",
    "        acc = model.get_accuracy(crowd_loader, crop=(slice(9,10), slice(9,10)), monitor=10)\n",
    "        acc_2d_3layer.update({key: list(acc_2d_3layer.get(key)) + [acc]})\n",
    "        print(key, acc_2d_3layer)"
   ]
  }
 ],
 "metadata": {
  "kernelspec": {
   "display_name": "Python 3",
   "language": "python",
   "name": "python3"
  },
  "language_info": {
   "codemirror_mode": {
    "name": "ipython",
    "version": 3
   },
   "file_extension": ".py",
   "mimetype": "text/x-python",
   "name": "python",
   "nbconvert_exporter": "python",
   "pygments_lexer": "ipython3",
   "version": "3.6.9"
  }
 },
 "nbformat": 4,
 "nbformat_minor": 2
}
