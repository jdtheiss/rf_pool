{
 "cells": [
  {
   "cell_type": "code",
   "execution_count": null,
   "metadata": {},
   "outputs": [],
   "source": [
    "import pickle \n",
    "\n",
    "import imp\n",
    "from IPython.display import clear_output, display\n",
    "import matplotlib\n",
    "import matplotlib.cm as cm\n",
    "import matplotlib.pyplot as plt\n",
    "import numpy as np\n",
    "import torch\n",
    "import torchvision\n",
    "import torchvision.transforms as transforms\n",
    "\n",
    "from context import rf_pool"
   ]
  },
  {
   "cell_type": "code",
   "execution_count": null,
   "metadata": {},
   "outputs": [],
   "source": [
    "from rf_pool import models, modules, pool, ops\n",
    "from rf_pool.utils import lattice, functions, visualize, datasets, stimuli"
   ]
  },
  {
   "cell_type": "markdown",
   "metadata": {},
   "source": [
    "**Load MNIST Data**"
   ]
  },
  {
   "cell_type": "code",
   "execution_count": null,
   "metadata": {},
   "outputs": [],
   "source": [
    "# get MNIST training data\n",
    "transform = transforms.Compose([transforms.ToTensor()])\n",
    "trainset = torchvision.datasets.MNIST(root='../data', train=True, download=True, \n",
    "                                       transform=transform)\n",
    "testset = torchvision.datasets.MNIST(root='../data', train=False, download=True,\n",
    "                                     transform=transform)"
   ]
  },
  {
   "cell_type": "code",
   "execution_count": null,
   "metadata": {},
   "outputs": [],
   "source": [
    "# create trainloader\n",
    "trainloader = torch.utils.data.DataLoader(trainset, batch_size=1,\n",
    "                                          shuffle=True, num_workers=2)\n",
    "testloader = torch.utils.data.DataLoader(testset, batch_size=1,\n",
    "                                         shuffle=True, num_workers=2)"
   ]
  },
  {
   "cell_type": "code",
   "execution_count": null,
   "metadata": {},
   "outputs": [],
   "source": [
    "# load base set crowded i\n",
    "base_set = pickle.load(open('crowding_experiment/MNIST_CrowdedDataset.pkl', 'rb'))"
   ]
  },
  {
   "cell_type": "markdown",
   "metadata": {},
   "source": [
    "**Load Model**"
   ]
  },
  {
   "cell_type": "code",
   "execution_count": null,
   "metadata": {},
   "outputs": [],
   "source": [
    "# initialize model\n",
    "model = rf_pool.models.FeedForwardNetwork()"
   ]
  },
  {
   "cell_type": "code",
   "execution_count": null,
   "metadata": {},
   "outputs": [],
   "source": [
    "# append layers of model\n",
    "model.append('0', rf_pool.modules.FeedForward(hidden=torch.nn.Conv2d(1,32,5),\n",
    "                                              activation=torch.nn.ReLU(), \n",
    "                                              pool=torch.nn.MaxPool2d(2)))\n",
    "model.append('1', rf_pool.modules.FeedForward(hidden=torch.nn.Conv2d(32,64,5),\n",
    "                                              activation=torch.nn.ReLU(),\n",
    "                                              pool=torch.nn.MaxPool2d(2)))\n",
    "model.append('2', rf_pool.modules.FeedForward(hidden=torch.nn.Conv2d(64,10,4)))\n",
    "model.append('3', rf_pool.modules.FeedForward(input_shape=(-1,10)))"
   ]
  },
  {
   "cell_type": "code",
   "execution_count": null,
   "metadata": {},
   "outputs": [],
   "source": [
    "# load previous model and results\n",
    "(_, extras) = model.load_model('crowding_experiment/MNIST_rate_0.2_10k_3deg.pkl')"
   ]
  },
  {
   "cell_type": "code",
   "execution_count": null,
   "metadata": {},
   "outputs": [],
   "source": [
    "# remove reshape layer \n",
    "model.layers.pop('3')"
   ]
  },
  {
   "cell_type": "code",
   "execution_count": null,
   "metadata": {},
   "outputs": [],
   "source": [
    "# Get Peak Feature Value\n",
    "peak = 0.\n",
    "for i, (data, label) in enumerate(testloader):\n",
    "    tmp_peak = torch.max(model.apply_layers(data, ['0','1']).detach()).item()\n",
    "    if tmp_peak > peak:\n",
    "        peak = tmp_peak\n",
    "    clear_output(wait=True)\n",
    "    display('progress %a' % ((i+1) / len(testloader)))"
   ]
  },
  {
   "cell_type": "code",
   "execution_count": null,
   "metadata": {},
   "outputs": [],
   "source": [
    "peak = 10.207415580749512"
   ]
  },
  {
   "cell_type": "code",
   "execution_count": null,
   "metadata": {},
   "outputs": [],
   "source": [
    "# update RF layer with attention at target location\n",
    "img_shape = torch.Size((53,53))\n",
    "offset = [0., -30.]\n",
    "RF_rate = 0.2\n",
    "gap = 0.\n",
    "n_rings = 10\n",
    "std = 1.\n",
    "mu, sigma = rf_pool.utils.lattice.init_foveated_lattice(img_shape, RF_rate, gap, n_rings=n_rings, std=std,\n",
    "                                                        offset=offset)\n",
    "rf_layer = rf_pool.pool.RF_Pool(mu=mu, sigma=sigma, img_shape=img_shape, \n",
    "                                lattice_fn=rf_pool.utils.lattice.mask_kernel_lattice,\n",
    "                                pool_fn='max_pool', kernel_size=2, retain_shape=True)\n",
    "rf_layer.show_lattice()\n",
    "print(rf_layer.mu.shape)\n",
    "n_kernels = rf_layer.mu.shape[0]\n",
    "\n",
    "layer_id = '1'\n",
    "model.layers[layer_id].forward_layer.add_module('pool', rf_layer)\n",
    "visualize.heatmap(model, '1');"
   ]
  },
  {
   "cell_type": "code",
   "execution_count": null,
   "metadata": {},
   "outputs": [],
   "source": [
    "# Get Sigmas for Density/Size Tests\n",
    "sigma_test = np.unique(sigma)[-4:-1]"
   ]
  },
  {
   "cell_type": "markdown",
   "metadata": {},
   "source": [
    "**Set functions for experiments**"
   ]
  },
  {
   "cell_type": "code",
   "execution_count": null,
   "metadata": {},
   "outputs": [],
   "source": [
    "def get_crowd_params(crowd_type):\n",
    "    if crowd_type in ['outer','inner']:\n",
    "        n_flankers = 1\n",
    "    else:\n",
    "        n_flankers = 2\n",
    "    if crowd_type == 'inner':\n",
    "        axis = np.pi\n",
    "    elif crowd_type == 'tangential':\n",
    "        axis = np.pi / 2.\n",
    "    else:\n",
    "        axis = 0.\n",
    "    return n_flankers, axis\n",
    "\n",
    "def create_crowd_set(dataset, n_images, img_size, n_flankers, axis, spacing, base_set=None,\n",
    "                     label_map=None, no_target=False, transform=transforms.ToTensor()):\n",
    "    if base_set is None:\n",
    "        crowd_set = datasets.CrowdedDataset(dataset, n_flankers, n_images, no_target=no_target,\n",
    "                                            load_previous=False, label_map=label_map,\n",
    "                                            transform=transform,\n",
    "                                            spacing=20*spacing, background_size=img_size, axis=axis)\n",
    "    else:\n",
    "        crowd_set = datasets.CrowdedDataset(dataset, n_flankers, n_images,\n",
    "                                            base_set.recorded_target_indices,\n",
    "                                            base_set.recorded_flanker_indices,\n",
    "                                            no_target=no_target,\n",
    "                                            load_previous=True, label_map=label_map,\n",
    "                                            transform=transform,\n",
    "                                            spacing=20*spacing, background_size=img_size, axis=axis)\n",
    "    return crowd_set"
   ]
  },
  {
   "cell_type": "code",
   "execution_count": null,
   "metadata": {},
   "outputs": [],
   "source": [
    "def apply_attention_field(model, layer_id, mu, sigma, loc, extent):\n",
    "    # update rfs with spatial extent\n",
    "    img_shape = model.layers[layer_id].forward_layer.pool.get(['img_shape'])[0]\n",
    "    attn_field = torch.zeros(img_shape)\n",
    "    attn_field[loc[0],loc[1]] = 1./extent\n",
    "    new_mu, new_sigma = lattice.update_mu_sigma(mu, sigma, attn_field)\n",
    "    model.layers[layer_id].forward_layer.pool.set(mu=new_mu, sigma=new_sigma)\n",
    "    return model"
   ]
  },
  {
   "cell_type": "code",
   "execution_count": null,
   "metadata": {},
   "outputs": [],
   "source": [
    "def get_SNR_accuracy(target_loader, crowd_loader, peak, batch_size=1, model=None, RF_mask=None, \n",
    "                     extent=None, lattice_fn=None, lattice_kwargs=None):\n",
    "    # parse lattice_kwargs\n",
    "    if lattice_kwargs is not None:\n",
    "        lattice_kwargs.setdefault('rotate', 0.)\n",
    "        rotate = lattice_kwargs.pop('rotate')\n",
    "        if type(rotate) is not type(lambda : 0.):\n",
    "            rotate_fn = lambda : rotate\n",
    "        else:\n",
    "            rotate_fn = rotate\n",
    "    else:\n",
    "        rotate_fn = None\n",
    "    # init SNR, acc, counters\n",
    "    SNR = torch.zeros(1)\n",
    "    correct = torch.zeros(1)\n",
    "    SNR_is = []\n",
    "    acc_is = []\n",
    "    cnt = 0.\n",
    "    # set mask_i if given\n",
    "    if RF_mask is not None:\n",
    "        mask_i = RF_mask.clone()\n",
    "    # get SNR, accuracy for each image\n",
    "    for i, ((target, labels), (crowd, _)) in enumerate(zip(target_loader, crowd_loader)):\n",
    "        # reset RFs\n",
    "        if lattice_fn is not None and lattice_kwargs is not None:\n",
    "            if rotate_fn is not None:\n",
    "                mu, sigma = lattice_fn(**lattice_kwargs, rotate=rotate_fn())\n",
    "            else:\n",
    "                mu, sigma = lattice_fn(**lattice_kwargs)\n",
    "            model.layers['1'].forward_layer.pool.set(mu=mu, sigma=sigma)\n",
    "        # get mask\n",
    "        if RF_mask is None:\n",
    "            mask_i = model.rf_index(target, '1', thr=0.1).float()\n",
    "        # attention\n",
    "        if extent:\n",
    "            model = apply_attention_field(model, layer_id, mu, sigma, [26,26], extent)\n",
    "        # get target signal and noise (crowd)\n",
    "        with torch.no_grad():\n",
    "            target_output = model.rf_output(target, '1', retain_shape=True)\n",
    "            signal = torch.max(target_output.flatten(-2), -1)[0] + torch.rand(target_output.shape[:-2])\n",
    "            crowd_output = model.rf_output(crowd, '1', retain_shape=True)\n",
    "            noise = torch.max(crowd_output.flatten(-2), -1)[0] + torch.rand(crowd_output.shape[:-2])\n",
    "            # mask crowd_output and pass forward to get accuracy\n",
    "            masked_output = torch.max(torch.mul(crowd_output, mask_i.reshape(batch_size, 1, -1, 1, 1)), 2)[0]\n",
    "            output = torch.max(model.apply_layers(masked_output, ['2']).flatten(-2), -1)[0]\n",
    "            correct_i = torch.sum(torch.max(output, -1)[1] == labels).item()\n",
    "            correct += correct_i\n",
    "        # peak snr numerator and denominator\n",
    "        MSE = torch.mean(torch.pow(signal - noise, 2), dim=[1])\n",
    "        # compute SNR\n",
    "        SNR_i = 10. * torch.log10(torch.div(torch.pow(peak, 2), MSE))\n",
    "        SNR_i = torch.mul(SNR_i, mask_i)\n",
    "        SNR = SNR + torch.sum(SNR_i)\n",
    "        SNR_is.append(torch.div(torch.sum(SNR_i), torch.sum(mask_i)).item())\n",
    "        acc_is.append(correct_i)\n",
    "        cnt += torch.sum(mask_i).item()\n",
    "    # get pct correct, SNR\n",
    "    pct_correct = (correct / len(target_loader)).item()\n",
    "    avg_SNR = torch.div(SNR, cnt).item()\n",
    "    return (avg_SNR, pct_correct, SNR_is, acc_is)"
   ]
  },
  {
   "cell_type": "code",
   "execution_count": null,
   "metadata": {},
   "outputs": [],
   "source": [
    "def get_heatmaps(target_loader, crowd_loader, peak, batch_size=1, model=None, RF_mask=None, \n",
    "                 extent=None, lattice_fn=None, lattice_kwargs=None):\n",
    "    # parse lattice_kwargs\n",
    "    if lattice_kwargs is not None:\n",
    "        lattice_kwargs.setdefault('rotate', 0.)\n",
    "        rotate = lattice_kwargs.pop('rotate')\n",
    "        if type(rotate) is not type(lambda : 0.):\n",
    "            rotate_fn = lambda : rotate\n",
    "        else:\n",
    "            rotate_fn = rotate\n",
    "    else:\n",
    "        rotate_fn = None\n",
    "    # init SNR, mask\n",
    "    n_kernels = model.layers['1'].forward_layer.pool.mu.shape[0]\n",
    "    SNR = torch.zeros(1, n_kernels)\n",
    "    mask = torch.zeros(1, n_kernels)\n",
    "    # set mask_i if given\n",
    "    if RF_mask is not None:\n",
    "        mask_i = RF_mask.clone()\n",
    "    # get SNR heatmap for each image\n",
    "    for i, ((target, labels), (crowd, _)) in enumerate(zip(target_loader, crowd_loader)):\n",
    "        # update RFs\n",
    "        if lattice_fn is not None and lattice_kwargs is not None:\n",
    "            if rotate_fn is not None:\n",
    "                mu, sigma = lattice_fn(**lattice_kwargs, rotate=rotate_fn())\n",
    "            else:\n",
    "                mu, sigma = lattice_fn(**lattice_kwargs)\n",
    "            model.layers['1'].forward_layer.pool.set(mu=mu, sigma=sigma)\n",
    "        # get mask_i, add to mask\n",
    "        if RF_mask is None:\n",
    "            mask_i = model.rf_index(target, '1', thr=0.1).float()\n",
    "        mask = mask + mask_i\n",
    "        # attention\n",
    "        if extent:\n",
    "            model = apply_attention_field(model, layer_id, mu, sigma, [26,26], extent)\n",
    "        # get target signal and noise (crowd)\n",
    "        with torch.no_grad():\n",
    "            target_output = model.rf_output(target, '1', retain_shape=True)\n",
    "            signal = torch.max(target_output.flatten(-2), -1)[0] + torch.rand(target_output.shape[:-2])\n",
    "            crowd_output = model.rf_output(crowd, '1', retain_shape=True)\n",
    "            noise = torch.max(crowd_output.flatten(-2), -1)[0] + torch.rand(crowd_output.shape[:-2])\n",
    "        # get MSE between target and crowding stimuli\n",
    "        MSE = torch.mean(torch.pow(signal - noise, 2), dim=[1])\n",
    "        # compute SNR\n",
    "        SNR_i = 10. * torch.log10(torch.div(torch.pow(peak, 2), MSE))\n",
    "        SNR_i = torch.mul(SNR_i, mask_i)\n",
    "        SNR = SNR + SNR_i\n",
    "    # get heatmap\n",
    "    SNR_hm = torch.div(SNR, mask)\n",
    "    return SNR_hm"
   ]
  },
  {
   "cell_type": "markdown",
   "metadata": {},
   "source": [
    "**Test RF size and density**"
   ]
  },
  {
   "cell_type": "code",
   "execution_count": null,
   "metadata": {},
   "outputs": [],
   "source": [
    "# set label mapping\n",
    "label_map = {}\n",
    "label_map.update([(n,n) for n in range(10)])"
   ]
  },
  {
   "cell_type": "code",
   "execution_count": null,
   "metadata": {},
   "outputs": [],
   "source": [
    "# get crowding stimulus configuration based on key\n",
    "n_test = 100\n",
    "spacing = 1.\n",
    "batch_size = 1\n",
    "n_flankers, axis = get_crowd_params('radial')\n",
    "# get target, and crowd data\n",
    "target_set = create_crowd_set(testset, n_test, 118, 0, 0, 0, base_set=base_set, label_map=label_map)\n",
    "target_loader = torch.utils.data.DataLoader(target_set, batch_size=batch_size,\n",
    "                                            shuffle=False, num_workers=2)\n",
    "crowd_set = create_crowd_set(testset, n_test, 118, n_flankers, axis, spacing,\n",
    "                             base_set, label_map)\n",
    "crowd_loader = torch.utils.data.DataLoader(crowd_set, batch_size=batch_size,\n",
    "                                                   shuffle=False, num_workers=2)"
   ]
  },
  {
   "cell_type": "code",
   "execution_count": null,
   "metadata": {},
   "outputs": [],
   "source": [
    "exp_type = 'Density'\n",
    "img_shape = torch.Size((53,53))\n",
    "center = (torch.tensor(img_shape) - 1.) / 2.\n",
    "\n",
    "if exp_type.lower() == 'size':\n",
    "    rng = np.arange(2., 23.)\n",
    "else:\n",
    "    rng = np.arange(2.25, 2.75, 0.25)\n",
    "RF_SNR = {}\n",
    "for n in range(3):\n",
    "    # RF size\n",
    "    if exp_type.lower() == 'size':\n",
    "        mu = rf_pool.utils.lattice.init_uniform_lattice(center, 1, 0.)[0]\n",
    "        model.layers['1'].forward_layer.pool.set(mu=mu)\n",
    "        param_space = [torch.tensor([x]) for x in rng]\n",
    "        param_name = ['model', 'layers', '1', 'forward_layer', 'pool', 'sigma']\n",
    "    else: # RF density\n",
    "        lattice_kwargs = {'center': center, 'n_kernel_side': (2,2), 'spacing': 0.,\n",
    "                          'sigma_init': sigma_test[n], 'rotate': lambda : np.pi * np.random.rand()}\n",
    "        sigma_init = sigma_test[n]\n",
    "        param_space = [s*sigma_test[n] for s in rng]\n",
    "        param_name = ['lattice_kwargs', 'spacing']\n",
    "    # Get SNR and accuracy\n",
    "    RF_mask = model.rf_index(target_set[0][0].unsqueeze(0), '1', thr=0.1).float()\n",
    "    SNR = functions.param_search(get_SNR_accuracy, [target_loader, crowd_loader, torch.tensor(peak)], \n",
    "                                 {'model': model, 'RF_mask': RF_mask,\n",
    "                                  'lattice_fn': lattice.init_uniform_lattice,\n",
    "                                  'lattice_kwargs': lattice_kwargs},\n",
    "                                 param_name, param_space, verbose=False, show_cost=False)\n",
    "    if exp_type.lower() == 'size':\n",
    "        RF_SNR.update({'cost_%d' % n: SNR, 'sigma_%d' % n: [s for s in rng]})\n",
    "    else:\n",
    "        RF_SNR.update({'cost_%d' % n: SNR, 'sigma_%d' % n: [s * sigma_test[n] for s in rng]})"
   ]
  },
  {
   "cell_type": "code",
   "execution_count": null,
   "metadata": {},
   "outputs": [],
   "source": [
    "with open('crowding_experiment/PSNR_%s_%dk.pkl' % (exp_type.lower(), n_test/1000), 'wb') as f:\n",
    "    pickle.dump(RF_SNR, f)"
   ]
  },
  {
   "cell_type": "markdown",
   "metadata": {},
   "source": [
    "**Test Attention**"
   ]
  },
  {
   "cell_type": "code",
   "execution_count": null,
   "metadata": {},
   "outputs": [],
   "source": [
    "exp_type = 'Attention'\n",
    "RF_SNR = {}\n",
    "# get crowding stimulus configuration based on key\n",
    "n_test = 10\n",
    "batch_size = 1\n",
    "spacing = 1.\n",
    "# get target data\n",
    "target_set = create_crowd_set(testset, n_test, 118, 0, 0, 0, base_set=base_set, label_map=label_map)\n",
    "target_loader = torch.utils.data.DataLoader(target_set, batch_size=batch_size,\n",
    "                                            shuffle=False, num_workers=2)\n",
    "for key in ['radial','tangential']: #'outer','inner','radial',\n",
    "    n_flankers, axis = get_crowd_params(key)\n",
    "    crowd_set = create_crowd_set(testset, n_test, 118, n_flankers, axis, spacing,\n",
    "                                 base_set, label_map)\n",
    "    crowd_loader = torch.utils.data.DataLoader(crowd_set, batch_size=batch_size,\n",
    "                                                   shuffle=False, num_workers=2)\n",
    "    param_space = np.arange(7., 29.5, 2.5)\n",
    "    param_name = ['extent']\n",
    "    lattice_fn = lattice.init_foveated_lattice\n",
    "    lattice_kwargs = {'img_shape': img_shape, 'scale': RF_rate, 'spacing': gap, \n",
    "                      'std': std, 'n_rings': n_rings, 'offset': offset, 'rotate': lambda : np.pi * np.random.rand()}\n",
    "    # Get SNR and accuracy\n",
    "    SNR = functions.param_search(get_SNR_accuracy, [target_loader, crowd_loader, torch.tensor(peak)], \n",
    "                                 {'batch_size': 1, 'model': model, 'extent': None,\n",
    "                                  'lattice_fn': lattice_fn, 'lattice_kwargs': lattice_kwargs},\n",
    "                                 param_name, param_space, verbose=False, show_cost=False)\n",
    "    RF_SNR.update({key + '_attn': SNR, 'extent': param_space})"
   ]
  },
  {
   "cell_type": "code",
   "execution_count": null,
   "metadata": {},
   "outputs": [],
   "source": [
    "with open('crowding_experiment/PSNR_%s_%dk.pkl' % (exp_type.lower(), n_test/1000), 'wb') as f:\n",
    "    pickle.dump(RF_SNR, f)"
   ]
  },
  {
   "cell_type": "markdown",
   "metadata": {},
   "source": [
    "**Test Spacing**"
   ]
  },
  {
   "cell_type": "code",
   "execution_count": null,
   "metadata": {},
   "outputs": [],
   "source": [
    "def rotate_fn(max_angle, base_angle=0., seed=0):\n",
    "    gen = np.random.RandomState(seed=seed)\n",
    "    return lambda : (2. * gen.rand() - 1.) * max_angle + base_angle\n",
    "\n",
    "def jitter_fn(max_w, max_h, seed=0):\n",
    "    gen = np.random.RandomState(seed=seed)\n",
    "    w_fn = lambda : np.int((2. * gen.rand() - 1.) * max_w)\n",
    "    h_fn = lambda : np.int((2. * gen.rand() - 1.) * max_h)\n",
    "    return lambda x: torch.roll(x, [w_fn(),h_fn()], dims=(-2,-1))"
   ]
  },
  {
   "cell_type": "code",
   "execution_count": null,
   "metadata": {},
   "outputs": [],
   "source": [
    "# get angle between RFs\n",
    "n_RF = np.floor(np.pi / RF_rate)\n",
    "angles = 2. * np.pi * np.linspace(0., 1., np.int(n_RF))[:-1]\n",
    "rot_angle = angles[1]"
   ]
  },
  {
   "cell_type": "code",
   "execution_count": null,
   "metadata": {},
   "outputs": [],
   "source": [
    "exp_type = 'Spacing'\n",
    "RF_SNR = {}\n",
    "n_test = 100\n",
    "batch_size = 1\n",
    "# set lattice kwargs\n",
    "img_shape = torch.Size((53,53))\n",
    "RF_rate = 0.2\n",
    "gap = 0.\n",
    "n_rings = 10\n",
    "std = 1.\n",
    "# get target data\n",
    "target_set = create_crowd_set(testset, n_test, 118, 0, 0, 0, base_set=base_set, label_map=label_map,\n",
    "                              transform=transforms.Compose([transforms.ToTensor(), jitter_fn(5, 5, seed=0)]))\n",
    "target_loader = torch.utils.data.DataLoader(target_set, batch_size=batch_size,\n",
    "                                            shuffle=False, num_workers=2)\n",
    "for key in ['outer','inner','radial','tangential']:\n",
    "    n_flankers, axis = get_crowd_params(key)\n",
    "    SNR = []\n",
    "    for spacing in np.arange(1., 2.25, 0.25):\n",
    "        clear_output(wait=True)\n",
    "        display('%s: %a' % (key, spacing))\n",
    "        crowd_set = create_crowd_set(testset, n_test, 118, n_flankers, axis, spacing, base_set, label_map,\n",
    "                                     transform=transforms.Compose([transforms.ToTensor(), jitter_fn(5, 5, seed=0)]))\n",
    "        crowd_loader = torch.utils.data.DataLoader(crowd_set, batch_size=batch_size,\n",
    "                                                   shuffle=False, num_workers=2)\n",
    "        lattice_fn = lattice.init_foveated_lattice\n",
    "        lattice_kwargs = {'img_shape': img_shape, 'scale': RF_rate, 'spacing': gap, \n",
    "                          'std': std, 'n_rings': n_rings, 'offset': offset, \n",
    "                          'rotate': rotate_fn(rot_angle / 2., base_angle=0, seed=0)}\n",
    "        # Get SNR and accuracy\n",
    "        SNR.append(get_SNR_accuracy(target_loader, crowd_loader, torch.tensor(peak), \n",
    "                                    **{'batch_size': batch_size, 'model': model, 'extent': None, \n",
    "                                       'lattice_fn': lattice_fn,\n",
    "                                       'lattice_kwargs': lattice_kwargs}))\n",
    "    RF_SNR.update({key + '_space': SNR, 'spacing': np.arange(1., 2.25, 0.25)})"
   ]
  },
  {
   "cell_type": "code",
   "execution_count": null,
   "metadata": {},
   "outputs": [],
   "source": [
    "with open('crowding_experiment/PSNR_%s_%dk.pkl' % (exp_type.lower(), n_test/1000), 'wb') as f:\n",
    "    pickle.dump(RF_SNR, f)"
   ]
  },
  {
   "cell_type": "markdown",
   "metadata": {},
   "source": [
    "**Get Heatmaps**"
   ]
  },
  {
   "cell_type": "code",
   "execution_count": null,
   "metadata": {},
   "outputs": [],
   "source": [
    "exp_type = 'Heatmaps'\n",
    "RF_SNR = {}\n",
    "n_test = 100\n",
    "batch_size = 1\n",
    "# set lattice kwargs\n",
    "img_shape = torch.Size((53,53))\n",
    "RF_rate = 0.2\n",
    "gap = 0.\n",
    "n_rings = 10\n",
    "std = 1.\n",
    "# get target data\n",
    "target_set = create_crowd_set(testset, n_test, 118, 0, 0, 0, base_set=base_set, label_map=label_map,\n",
    "                              transform=transforms.Compose([transforms.ToTensor(), jitter_fn(5, 5, seed=0)]))\n",
    "target_loader = torch.utils.data.DataLoader(target_set, batch_size=batch_size,\n",
    "                                            shuffle=False, num_workers=2)\n",
    "# get SNR heatmaps\n",
    "for key in ['outer','inner','radial','tangential']:\n",
    "    n_flankers, axis = get_crowd_params(key)\n",
    "    SNR = []\n",
    "    for extent in [None, 7., 27.]:\n",
    "        for spacing in [1., 2.]:\n",
    "            # if extent and spacing > 1, skip\n",
    "            if extent is not None and spacing > 1.:\n",
    "                continue\n",
    "            # monitor progress\n",
    "            clear_output(wait=True)\n",
    "            display('%s: spacing %a, extent %a' % (key, spacing, extent))\n",
    "            # get crowding set\n",
    "            crowd_set = create_crowd_set(testset, n_test, 118, n_flankers, axis, spacing, base_set, label_map,\n",
    "                                         transform=transforms.Compose([transforms.ToTensor(), jitter_fn(5, 5, seed=0)]))\n",
    "            crowd_loader = torch.utils.data.DataLoader(crowd_set, batch_size=batch_size,\n",
    "                                                       shuffle=False, num_workers=2)\n",
    "            # set lattice kwargs \n",
    "            lattice_fn = lattice.init_foveated_lattice\n",
    "            lattice_kwargs = {'img_shape': img_shape, 'scale': RF_rate, 'spacing': gap, \n",
    "                              'std': std, 'n_rings': n_rings, 'offset': offset, \n",
    "                              'rotate': 0.}\n",
    "            # get heatmap\n",
    "            SNR.append(get_heatmaps(target_loader, crowd_loader, torch.tensor(peak), \n",
    "                                    **{'batch_size': batch_size, 'model': model, \n",
    "                                       'extent': extent,\n",
    "                                       'lattice_fn': lattice_fn,\n",
    "                                       'lattice_kwargs': lattice_kwargs}))\n",
    "    RF_SNR.update({key + '_hm': SNR, 'spacing': [1., 2.], 'extent': [7., 27.]})"
   ]
  },
  {
   "cell_type": "code",
   "execution_count": null,
   "metadata": {},
   "outputs": [],
   "source": [
    "with open('crowding_experiment/PSNR_%s_%dk.pkl' % (exp_type.lower(), n_test/1000), 'wb') as f:\n",
    "    pickle.dump(RF_SNR, f)"
   ]
  }
 ],
 "metadata": {
  "kernelspec": {
   "display_name": "Python 3",
   "language": "python",
   "name": "python3"
  },
  "language_info": {
   "codemirror_mode": {
    "name": "ipython",
    "version": 3
   },
   "file_extension": ".py",
   "mimetype": "text/x-python",
   "name": "python",
   "nbconvert_exporter": "python",
   "pygments_lexer": "ipython3",
   "version": "3.6.9"
  }
 },
 "nbformat": 4,
 "nbformat_minor": 2
}
