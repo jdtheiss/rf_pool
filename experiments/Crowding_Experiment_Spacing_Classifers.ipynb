{
 "cells": [
  {
   "cell_type": "code",
   "execution_count": 1,
   "metadata": {},
   "outputs": [],
   "source": [
    "import pickle \n",
    "\n",
    "import imp\n",
    "from IPython.display import clear_output, display\n",
    "import matplotlib\n",
    "import matplotlib.cm as cm\n",
    "import matplotlib.pyplot as plt\n",
    "import numpy as np\n",
    "import torch\n",
    "import torchvision\n",
    "import torchvision.transforms as transforms\n",
    "\n",
    "from context import rf_pool"
   ]
  },
  {
   "cell_type": "code",
   "execution_count": 2,
   "metadata": {},
   "outputs": [],
   "source": [
    "from rf_pool import models, modules, layers, ops\n",
    "from rf_pool.utils import lattice, functions, visualize, datasets, stimuli"
   ]
  },
  {
   "cell_type": "code",
   "execution_count": 23,
   "metadata": {},
   "outputs": [
    {
     "data": {
      "text/plain": [
       "<module 'rf_pool.utils.datasets' from '/global/home/users/joel_bowen/rf_pool/rf_pool/utils/datasets.py'>"
      ]
     },
     "execution_count": 23,
     "metadata": {},
     "output_type": "execute_result"
    }
   ],
   "source": [
    "imp.reload(datasets)"
   ]
  },
  {
   "cell_type": "markdown",
   "metadata": {},
   "source": [
    "**Load MNIST Data**"
   ]
  },
  {
   "cell_type": "code",
   "execution_count": 3,
   "metadata": {},
   "outputs": [],
   "source": [
    "path_to_models = '/global/home/groups/fc_streams/models'\n",
    "path_to_data = '/global/home/groups/fc_streams/data'"
   ]
  },
  {
   "cell_type": "code",
   "execution_count": 4,
   "metadata": {},
   "outputs": [],
   "source": [
    "# get MNIST training data\n",
    "transform = transforms.Compose([transforms.ToTensor()])\n",
    "trainset = torchvision.datasets.MNIST(root=path_to_data, train=True, download=True, \n",
    "                                       transform=transform)\n",
    "testset = torchvision.datasets.MNIST(root=path_to_data, train=False, download=True,\n",
    "                                     transform=transform)"
   ]
  },
  {
   "cell_type": "code",
   "execution_count": 5,
   "metadata": {},
   "outputs": [],
   "source": [
    "# create trainloader\n",
    "trainloader = torch.utils.data.DataLoader(trainset, batch_size=1,\n",
    "                                          shuffle=True, num_workers=2)\n",
    "testloader = torch.utils.data.DataLoader(testset, batch_size=1,\n",
    "                                         shuffle=True, num_workers=2)"
   ]
  },
  {
   "cell_type": "code",
   "execution_count": null,
   "metadata": {},
   "outputs": [],
   "source": [
    "# load base set crowded i\n",
    "base_set = pickle.load(open('crowding_experiment/MNIST_CrowdedDataset.pkl', 'rb'))"
   ]
  },
  {
   "cell_type": "markdown",
   "metadata": {},
   "source": [
    "# Set up the models"
   ]
  },
  {
   "cell_type": "markdown",
   "metadata": {},
   "source": [
    "## Crowded Model"
   ]
  },
  {
   "cell_type": "code",
   "execution_count": 6,
   "metadata": {},
   "outputs": [],
   "source": [
    "# initialize model\n",
    "model = rf_pool.models.FeedForwardNetwork()"
   ]
  },
  {
   "cell_type": "code",
   "execution_count": 7,
   "metadata": {},
   "outputs": [],
   "source": [
    "# append layers of model\n",
    "model.append('0', rf_pool.modules.FeedForward(hidden=torch.nn.Conv2d(1,32,5),\n",
    "                                              activation=torch.nn.ReLU(), \n",
    "                                              pool=torch.nn.MaxPool2d(2)))\n",
    "model.append('1', rf_pool.modules.FeedForward(hidden=torch.nn.Conv2d(32,64,5),\n",
    "                                              activation=torch.nn.ReLU(),\n",
    "                                              pool=torch.nn.MaxPool2d(2)))\n",
    "model.append('2', rf_pool.modules.FeedForward(hidden=torch.nn.Conv2d(64,10,4)))\n",
    "model.append('3', rf_pool.modules.FeedForward(input_shape=(-1,10)))"
   ]
  },
  {
   "cell_type": "code",
   "execution_count": null,
   "metadata": {},
   "outputs": [],
   "source": [
    "# load previous model and results\n",
    "(_, extras) = model.load_model('crowding_experiment/attention_3deg.pkl')\n",
    "interference_crop = extras.get('interference_crop')\n",
    "similarity_rfs = extras.get('similarity_rfs')"
   ]
  },
  {
   "cell_type": "code",
   "execution_count": null,
   "metadata": {},
   "outputs": [],
   "source": [
    "# remove reshape layer \n",
    "model.layers.pop('3')"
   ]
  },
  {
   "cell_type": "code",
   "execution_count": 8,
   "metadata": {},
   "outputs": [
    {
     "data": {
      "image/png": "[encoded data removed]",
      "text/plain": [
       "<Figure size 360x360 with 1 Axes>"
      ]
     },
     "metadata": {
      "needs_background": "light"
     },
     "output_type": "display_data"
    },
    {
     "name": "stdout",
     "output_type": "stream",
     "text": [
      "torch.Size([53, 2])\n"
     ]
    }
   ],
   "source": [
    "# update RF layer with attention at target location\n",
    "def set_rf_layer(offest):\n",
    "    img_shape = torch.Size((53,53))\n",
    "    mu, sigma = rf_pool.utils.lattice.init_foveated_lattice(img_shape, 0.23, 0., n_rf=None, n_rings=11, \n",
    "                                                            offset=offset, rotate_rings=False)\n",
    "    rf_layer = rf_pool.layers.RF_Pool(mu=mu, sigma=sigma, img_shape=img_shape, \n",
    "                                      lattice_fn=rf_pool.utils.lattice.mask_kernel_lattice,\n",
    "                                      pool_type=None, kernel_size=2, thr=np.exp(-1.))\n",
    "    rf_layer.show_lattice()\n",
    "    n_kernels = rf_layer.mu.shape[0]\n",
    "\n",
    "    layer_id = '1'\n",
    "    model.layers[layer_id].forward_layer.add_module('pool', rf_layer)"
   ]
  },
  {
   "cell_type": "markdown",
   "metadata": {},
   "source": [
    "## Evaluation Classifier"
   ]
  },
  {
   "cell_type": "code",
   "execution_count": 27,
   "metadata": {},
   "outputs": [],
   "source": [
    "# append layers of model\n",
    "def init_classifier():\n",
    "    eval_classifier = rf_pool.models.FeedForwardNetwork()\n",
    "    eval_classifier.append('0', rf_pool.modules.FeedForward(input_shape=(-1,3392)))\n",
    "    eval_classifier.append('1', rf_pool.modules.FeedForward(hidden=torch.nn.Linear(3392,1500),\n",
    "                                                  activation=torch.nn.ReLU()))\n",
    "    eval_classifier.append('2', rf_pool.modules.FeedForward(hidden=torch.nn.Linear(1500,500),\n",
    "                                                           activation=torch.nn.ReLU()))\n",
    "    eval_classifier.append('3', rf_pool.modules.FeedForward(hidden=torch.nn.Linear(500,10)))\n",
    "    \n",
    "    return eval_classifier\n"
   ]
  },
  {
   "cell_type": "markdown",
   "metadata": {},
   "source": [
    "# Train the classifiers"
   ]
  },
  {
   "cell_type": "markdown",
   "metadata": {},
   "source": [
    "**Set functions for experiments**"
   ]
  },
  {
   "cell_type": "code",
   "execution_count": 14,
   "metadata": {},
   "outputs": [],
   "source": [
    "def get_crowd_params(crowd_type):\n",
    "    # number of flankers\n",
    "    if crowd_type in ['outer','inner']:\n",
    "        n_flankers = 1\n",
    "    else:\n",
    "        n_flankers = 2\n",
    "    # axis\n",
    "    if crowd_type == 'inner':\n",
    "        axis = np.pi\n",
    "    else:\n",
    "        axis = 0.\n",
    "    # rf layer offset\n",
    "    if crowd_type == 'tangential':\n",
    "        set_rf_layer([-30.,0.])\n",
    "    else:\n",
    "        set_rf_layer([0.,-30.])\n",
    "        \n",
    "    return n_flankers, axis\n",
    "\n",
    "def create_crowd_set(dataset, n_images, img_size, n_flankers, axis, spacing, base_set=None,\n",
    "                     label_map=None, no_target=False):\n",
    "    if base_set is None:\n",
    "        crowd_set = datasets.CrowdedDataset(dataset, n_flankers, n_images, no_target=no_target,\n",
    "                                            load_previous=False, label_map=label_map,\n",
    "                                            transform=transforms.ToTensor(),\n",
    "                                            spacing=20*spacing, background_size=img_size, axis=axis)\n",
    "    else:\n",
    "        crowd_set = datasets.CrowdedDataset(dataset, n_flankers, n_images,\n",
    "                                            base_set.recorded_target_indices,\n",
    "                                            base_set.recorded_flanker_indices,\n",
    "                                            no_target=no_target,\n",
    "                                            load_previous=True, label_map=label_map,\n",
    "                                            transform=transforms.ToTensor(),\n",
    "                                            spacing=20*spacing, background_size=img_size, axis=axis)\n",
    "    return crowd_set"
   ]
  },
  {
   "cell_type": "code",
   "execution_count": 15,
   "metadata": {},
   "outputs": [],
   "source": [
    "def get_rf_output(model, inputs, layer_id):\n",
    "    rf_out = model.rf_output(inputs, layer_id, retain_shape=True)\n",
    "    return torch.max(rf_out.flatten(-2), -1)[0].flatten(1)\n",
    "\n",
    "def gather_features_labels(data_loader, model, layer_id):\n",
    "    features = []\n",
    "    feature_labels = []\n",
    "    with torch.no_grad():\n",
    "        for i, data in enumerate(data_loader):\n",
    "            img, label = data\n",
    "            feature = get_rf_output(model, img, layer_id)\n",
    "            features.append(feature)\n",
    "            feature_labels. append(label)\n",
    "\n",
    "    return torch.cat(features, 0), torch.cat(feature_labels, 0)\n"
   ]
  },
  {
   "cell_type": "code",
   "execution_count": 28,
   "metadata": {},
   "outputs": [],
   "source": [
    "def train_classifier(n_epochs, train_loader, test_loader, model_filename, **kwargs):\n",
    "    # initialize the classifier\n",
    "    eval_model = init_classifier()\n",
    "    # set loss function and optimizer\n",
    "    loss_fn = torch.nn.CrossEntropyLoss()\n",
    "    optim = torch.optim.SGD(model.parameters(), **kwargs)\n",
    "    eval_model.train(n_epochs, train_loader, loss_fn, optim, monitor=100,\n",
    "                            show_weights={'layer_id': '0', 'cmap': 'gray'})\n",
    "                           \n",
    "    eval_model.save_model(model_filename)                                  \n",
    "    return eval_model.get_accuracy(test_loader)                   "
   ]
  },
  {
   "cell_type": "markdown",
   "metadata": {},
   "source": [
    "**Spacings**"
   ]
  },
  {
   "cell_type": "code",
   "execution_count": 30,
   "metadata": {},
   "outputs": [],
   "source": [
    "# directories\n",
    "data_root_directory = path_to_data + '/crowded_features'\n",
    "model_root_directory = path_to_models + '/crowded_classifiers'\n",
    "\n",
    "for root_dir in [data_root_directory, model_root_directory]:\n",
    "    if not os.path.exists(root_dir):\n",
    "        os.mkdir(root_dir)\n",
    "\n",
    "base_train = None\n",
    "base_test = None\n",
    "\n",
    "# set batch size, image size, and test size\n",
    "batch_size = 1\n",
    "img_size = 118\n",
    "n_train = 50\n",
    "n_test = 10\n",
    "\n",
    "# set independent variables\n",
    "crowded_types = ['radial','inner', 'outer','tangential']\n",
    "spacings = np.arange(1,2.25,.25)\n",
    "label_map = {}\n",
    "label_map.update([(n,n) for n in range(10)])\n",
    "\n",
    "# classifier params\n",
    "n_epochs = 1\n",
    "ft_batch_size=10\n",
    "lr = .001\n",
    "momentum = 0.9"
   ]
  },
  {
   "cell_type": "code",
   "execution_count": 21,
   "metadata": {},
   "outputs": [
    {
     "name": "stdout",
     "output_type": "stream",
     "text": [
      "Saved features: Crowded type: radial; Spacing: 1.0\n"
     ]
    }
   ],
   "source": [
    "# gather the features seperately before training\n",
    "for crowd_type in crowded_types: \n",
    "    for sp in spacings:\n",
    "        # get the crowded sets\n",
    "        n_flankers, axis = get_crowd_params(crowd_type)\n",
    "        # train set\n",
    "        train_crowd = create_crowd_set(trainset, n_train, img_size, n_flankers, axis, sp, base_train, label_map)\n",
    "        trainloader_crowd = torch.utils.data.DataLoader(train_crowd, batch_size=batch_size, shuffle=False, num_workers=2)\n",
    "        ft_train_data = gather_features_labels(trainloader_crowd, model, '1')\n",
    "        torch.save(ft_train_data, data_root_directory + '/' +str(sp)+ '_train')\n",
    "        # test set\n",
    "        test_crowd = create_crowd_set(testset, n_test, img_size, n_flankers, axis, sp, base_test, label_map)\n",
    "        testloader_crowd = torch.utils.data.DataLoader(test_crowd, batch_size=batch_size, shuffle=False, num_workers=2)\n",
    "        ft_test_data = gather_features_labels(testloader_crowd, model, '1')\n",
    "        torch.save(ft_test_data, data_root_directory + '/' + str(sp)+ '_test')\n",
    "        \n",
    "        print('Saved features: Crowded type: {}; Spacing: {}'.format(crowd_type, sp))\n",
    "        "
   ]
  },
  {
   "cell_type": "code",
   "execution_count": 31,
   "metadata": {},
   "outputs": [
    {
     "name": "stdout",
     "output_type": "stream",
     "text": [
      "Saved classifier: Crowded type: radial; Spacing: 1.0\n"
     ]
    }
   ],
   "source": [
    "# train the classifiers and compute accuracy\n",
    "accuracy = {'spacings': spacings,\n",
    "            'inner': [],\n",
    "            'outer':[],\n",
    "            'radial':[],\n",
    "            'tangential':[]}\n",
    "\n",
    "for crowd_type in crowded_types: \n",
    "    for sp in spacings:\n",
    "        # load in the feature datasets\n",
    "        # trainset\n",
    "        ft_train = datasets.FeatureDataset(root=data_root_directory+'/'+str(sp), train=True,\n",
    "                                           transform=transforms.ToTensor())\n",
    "        ft_trainloader = torch.utils.data.DataLoader(ft_train, batch_size=ft_batch_size, shuffle=True, num_workers=2)\n",
    "        # test set\n",
    "        ft_test = datasets.FeatureDataset(root=data_root_directory+'/'+str(sp), train=False,\n",
    "                                          transform=transforms.ToTensor())\n",
    "        ft_testloader = torch.utils.data.DataLoader(ft_test, batch_size=ft_batch_size, shuffle=True, num_workers=2)\n",
    "        \n",
    "        # train\n",
    "        classifier_save_filename =  model_root_directory + '/' + str(sp)\n",
    "        acc = train_classifier(n_epochs, ft_trainloader, ft_testloader, classifier_save_filename,\n",
    "                               lr=lr, momentum=momentum)\n",
    "        \n",
    "        accuracy[crowd_type].append(acc)\n",
    "        print('Saved classifier: Crowded type: {}; Spacing: {}'.format(crowd_type, sp))\n",
    "          "
   ]
  },
  {
   "cell_type": "code",
   "execution_count": 32,
   "metadata": {},
   "outputs": [
    {
     "data": {
      "text/plain": [
       "{'spacings': [1.0],\n",
       " 'inner': [],\n",
       " 'outer': [],\n",
       " 'radial': [10.0],\n",
       " 'tangential': []}"
      ]
     },
     "execution_count": 32,
     "metadata": {},
     "output_type": "execute_result"
    }
   ],
   "source": [
    "accuracy"
   ]
  },
  {
   "cell_type": "markdown",
   "metadata": {},
   "source": [
    "**Extent of attention**"
   ]
  },
  {
   "cell_type": "code",
   "execution_count": null,
   "metadata": {},
   "outputs": [],
   "source": [
    "def apply_attention_field(model, layer_id, mu, sigma, loc, extent):\n",
    "    # update rfs with spatial extent\n",
    "    img_shape = model.layers[layer_id].forward_layer.pool.get(['img_shape'])[0]\n",
    "    attn_field = torch.zeros(img_shape)\n",
    "    attn_field[loc[0],loc[1]] = 1./extent\n",
    "    new_mu, new_sigma = lattice.update_mu_sigma(mu, sigma, attn_field)\n",
    "    model.layers[layer_id].forward_layer.pool.set(mu=new_mu, sigma=new_sigma)\n",
    "    return model"
   ]
  },
  {
   "cell_type": "code",
   "execution_count": null,
   "metadata": {},
   "outputs": [],
   "source": []
  }
 ],
 "metadata": {
  "kernelspec": {
   "display_name": "pytorch",
   "language": "python",
   "name": "pytorch"
  },
  "language_info": {
   "codemirror_mode": {
    "name": "ipython",
    "version": 3
   },
   "file_extension": ".py",
   "mimetype": "text/x-python",
   "name": "python",
   "nbconvert_exporter": "python",
   "pygments_lexer": "ipython3",
   "version": "3.6.8"
  }
 },
 "nbformat": 4,
 "nbformat_minor": 2
}
